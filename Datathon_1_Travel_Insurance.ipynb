{
  "nbformat": 4,
  "nbformat_minor": 0,
  "metadata": {
    "colab": {
      "name": "Datathon1_travel_insurance.ipynb",
      "provenance": [],
      "collapsed_sections": [
        "-5VsqZm6B3Lh",
        "urMqweZ9B7Yd",
        "iGZLp8EDiE-o",
        "Hfcu-GWq1_9n"
      ],
      "toc_visible": true,
      "authorship_tag": "ABX9TyO5OlLuRe7fE3Q73mX7fbDW",
      "include_colab_link": true
    },
    "kernelspec": {
      "name": "python3",
      "display_name": "Python 3"
    }
  },
  "cells": [
    {
      "cell_type": "markdown",
      "metadata": {
        "id": "view-in-github",
        "colab_type": "text"
      },
      "source": [
        "<a href=\"https://colab.research.google.com/github/oliia/BootcampDatathons/blob/main/Datathon1_travel_insurance.ipynb\" target=\"_parent\"><img src=\"https://colab.research.google.com/assets/colab-badge.svg\" alt=\"Open In Colab\"/></a>"
      ]
    },
    {
      "cell_type": "markdown",
      "metadata": {
        "id": "A0l3eLT74x4Z"
      },
      "source": [
        "https://dphi.tech/practice/challenge/49#data"
      ]
    },
    {
      "cell_type": "markdown",
      "metadata": {
        "id": "AzFF966IcboT"
      },
      "source": [
        "# Imports"
      ]
    },
    {
      "cell_type": "code",
      "metadata": {
        "id": "cXqZGqC14R3M"
      },
      "source": [
        "import numpy as np\r\n",
        "import pandas as pd\r\n",
        "from  matplotlib import pyplot as plt\r\n",
        "\r\n",
        "# from sklearn.preprocessing import StandardScaler\r\n",
        "from sklearn.model_selection import train_test_split, GridSearchCV, RandomizedSearchCV\r\n",
        "from sklearn.ensemble import RandomForestClassifier\r\n",
        "from sklearn.metrics import f1_score, confusion_matrix, classification_report, roc_auc_score, make_scorer\r\n",
        "\r\n",
        "from sklearn.pipeline import Pipeline"
      ],
      "execution_count": 91,
      "outputs": []
    },
    {
      "cell_type": "markdown",
      "metadata": {
        "id": "-5VsqZm6B3Lh"
      },
      "source": [
        "# Helpers"
      ]
    },
    {
      "cell_type": "code",
      "metadata": {
        "id": "9YO00nX_AWKF"
      },
      "source": [
        "def plot_data(X, y): \r\n",
        "\tplt.scatter(X[y == 0, 0], X[y == 0, 1], label=\"Class #0\", alpha=0.5, linewidth=0.15) \r\n",
        "\tplt.scatter(X[y == 1, 0], X[y == 1, 1], label=\"Class #1\", alpha=0.5, linewidth=0.15, c='r') \r\n",
        "\tplt.legend() \r\n",
        "\treturn plt.show()"
      ],
      "execution_count": 92,
      "outputs": []
    },
    {
      "cell_type": "code",
      "metadata": {
        "id": "-SSLFlXRK9z4"
      },
      "source": [
        "# Test data - encoding categorical columns \r\n",
        "# Remove additional columns \r\n",
        "def remove_add_col(df_test_processed, cat_columns, cat_dummies) :\r\n",
        "  \r\n",
        "  '''\r\n",
        "  df_test_processed dataframe with new data, encoded  \r\n",
        "  cat_columns list of the name of categorical columns \r\n",
        "  cat_dummies list of all encoded columns, one for each encoding, after processing train dataframe\r\n",
        "  ''' \r\n",
        "  \r\n",
        "  for col in df_test_processed.columns:\r\n",
        "      if (\"__\" in col) and (col.split(\"__\")[0] in cat_columns) and col not in cat_dummies:\r\n",
        "          print(\"Removing additional feature {}\".format(col))\r\n",
        "          df_test_processed.drop(col, axis=1, inplace=True)\r\n",
        "      \r\n",
        "  return df_test_processed"
      ],
      "execution_count": 93,
      "outputs": []
    },
    {
      "cell_type": "code",
      "metadata": {
        "id": "Z0ruXcETMaMN"
      },
      "source": [
        "# Test data - encoding categorical columns\r\n",
        "# Adds missing columns \r\n",
        "\r\n",
        "def add_missing_columns(df_test_processed, cat_dummies, processed_columns):\r\n",
        "\r\n",
        "\r\n",
        "  for col in cat_dummies:\r\n",
        "    if col not in df_test_processed.columns:\r\n",
        "        print(\"Adding missing feature {}\".format(col))\r\n",
        "        df_test_processed[col] = 0\r\n",
        "   \r\n",
        "  # reorder columns \r\n",
        "  df_test_processed = df_test_processed[processed_columns]\r\n",
        "\r\n",
        "  return df_test_processed"
      ],
      "execution_count": 94,
      "outputs": []
    },
    {
      "cell_type": "markdown",
      "metadata": {
        "id": "urMqweZ9B7Yd"
      },
      "source": [
        "# Training data and EDA"
      ]
    },
    {
      "cell_type": "code",
      "metadata": {
        "id": "RjLCgpUL4P01"
      },
      "source": [
        "insurance_data  = pd.read_csv(\"https://raw.githubusercontent.com/dphi-official/Datasets/master/travel_insurance/Training_set_label.csv\" )"
      ],
      "execution_count": 95,
      "outputs": []
    },
    {
      "cell_type": "code",
      "metadata": {
        "colab": {
          "base_uri": "https://localhost:8080/"
        },
        "id": "e8yS2a-a5ZS-",
        "outputId": "bf28aa8d-b98d-4f5a-a25c-f1b38e5856cd"
      },
      "source": [
        "insurance_data.info()"
      ],
      "execution_count": 96,
      "outputs": [
        {
          "output_type": "stream",
          "text": [
            "<class 'pandas.core.frame.DataFrame'>\n",
            "RangeIndex: 48260 entries, 0 to 48259\n",
            "Data columns (total 11 columns):\n",
            " #   Column                Non-Null Count  Dtype  \n",
            "---  ------                --------------  -----  \n",
            " 0   Agency                48260 non-null  object \n",
            " 1   Agency Type           48260 non-null  object \n",
            " 2   Distribution Channel  48260 non-null  object \n",
            " 3   Product Name          48260 non-null  object \n",
            " 4   Duration              48260 non-null  int64  \n",
            " 5   Destination           48260 non-null  object \n",
            " 6   Net Sales             48260 non-null  float64\n",
            " 7   Commision (in value)  48260 non-null  float64\n",
            " 8   Gender                13899 non-null  object \n",
            " 9   Age                   48260 non-null  int64  \n",
            " 10  Claim                 48260 non-null  int64  \n",
            "dtypes: float64(2), int64(3), object(6)\n",
            "memory usage: 4.1+ MB\n"
          ],
          "name": "stdout"
        }
      ]
    },
    {
      "cell_type": "code",
      "metadata": {
        "colab": {
          "base_uri": "https://localhost:8080/",
          "height": 0
        },
        "id": "Vjn2rz8Qgdf0",
        "outputId": "e24d87ec-8fa0-4ca5-df33-827f47a6640f"
      },
      "source": [
        "insurance_data.head()"
      ],
      "execution_count": 97,
      "outputs": [
        {
          "output_type": "execute_result",
          "data": {
            "text/html": [
              "<div>\n",
              "<style scoped>\n",
              "    .dataframe tbody tr th:only-of-type {\n",
              "        vertical-align: middle;\n",
              "    }\n",
              "\n",
              "    .dataframe tbody tr th {\n",
              "        vertical-align: top;\n",
              "    }\n",
              "\n",
              "    .dataframe thead th {\n",
              "        text-align: right;\n",
              "    }\n",
              "</style>\n",
              "<table border=\"1\" class=\"dataframe\">\n",
              "  <thead>\n",
              "    <tr style=\"text-align: right;\">\n",
              "      <th></th>\n",
              "      <th>Agency</th>\n",
              "      <th>Agency Type</th>\n",
              "      <th>Distribution Channel</th>\n",
              "      <th>Product Name</th>\n",
              "      <th>Duration</th>\n",
              "      <th>Destination</th>\n",
              "      <th>Net Sales</th>\n",
              "      <th>Commision (in value)</th>\n",
              "      <th>Gender</th>\n",
              "      <th>Age</th>\n",
              "      <th>Claim</th>\n",
              "    </tr>\n",
              "  </thead>\n",
              "  <tbody>\n",
              "    <tr>\n",
              "      <th>0</th>\n",
              "      <td>CWT</td>\n",
              "      <td>Travel Agency</td>\n",
              "      <td>Online</td>\n",
              "      <td>Rental Vehicle Excess Insurance</td>\n",
              "      <td>61</td>\n",
              "      <td>UNITED KINGDOM</td>\n",
              "      <td>19.8</td>\n",
              "      <td>11.88</td>\n",
              "      <td>NaN</td>\n",
              "      <td>29</td>\n",
              "      <td>0</td>\n",
              "    </tr>\n",
              "    <tr>\n",
              "      <th>1</th>\n",
              "      <td>EPX</td>\n",
              "      <td>Travel Agency</td>\n",
              "      <td>Online</td>\n",
              "      <td>Cancellation Plan</td>\n",
              "      <td>93</td>\n",
              "      <td>NEW ZEALAND</td>\n",
              "      <td>63.0</td>\n",
              "      <td>0.00</td>\n",
              "      <td>NaN</td>\n",
              "      <td>36</td>\n",
              "      <td>0</td>\n",
              "    </tr>\n",
              "    <tr>\n",
              "      <th>2</th>\n",
              "      <td>EPX</td>\n",
              "      <td>Travel Agency</td>\n",
              "      <td>Online</td>\n",
              "      <td>2 way Comprehensive Plan</td>\n",
              "      <td>22</td>\n",
              "      <td>UNITED STATES</td>\n",
              "      <td>22.0</td>\n",
              "      <td>0.00</td>\n",
              "      <td>NaN</td>\n",
              "      <td>25</td>\n",
              "      <td>0</td>\n",
              "    </tr>\n",
              "    <tr>\n",
              "      <th>3</th>\n",
              "      <td>C2B</td>\n",
              "      <td>Airlines</td>\n",
              "      <td>Online</td>\n",
              "      <td>Silver Plan</td>\n",
              "      <td>14</td>\n",
              "      <td>SINGAPORE</td>\n",
              "      <td>54.5</td>\n",
              "      <td>13.63</td>\n",
              "      <td>M</td>\n",
              "      <td>24</td>\n",
              "      <td>0</td>\n",
              "    </tr>\n",
              "    <tr>\n",
              "      <th>4</th>\n",
              "      <td>EPX</td>\n",
              "      <td>Travel Agency</td>\n",
              "      <td>Online</td>\n",
              "      <td>Cancellation Plan</td>\n",
              "      <td>90</td>\n",
              "      <td>VIET NAM</td>\n",
              "      <td>10.0</td>\n",
              "      <td>0.00</td>\n",
              "      <td>NaN</td>\n",
              "      <td>23</td>\n",
              "      <td>0</td>\n",
              "    </tr>\n",
              "  </tbody>\n",
              "</table>\n",
              "</div>"
            ],
            "text/plain": [
              "  Agency    Agency Type Distribution Channel  ... Gender  Age Claim\n",
              "0    CWT  Travel Agency               Online  ...    NaN   29     0\n",
              "1    EPX  Travel Agency               Online  ...    NaN   36     0\n",
              "2    EPX  Travel Agency               Online  ...    NaN   25     0\n",
              "3    C2B       Airlines               Online  ...      M   24     0\n",
              "4    EPX  Travel Agency               Online  ...    NaN   23     0\n",
              "\n",
              "[5 rows x 11 columns]"
            ]
          },
          "metadata": {
            "tags": []
          },
          "execution_count": 97
        }
      ]
    },
    {
      "cell_type": "code",
      "metadata": {
        "id": "AWvCZLSS_MpA",
        "colab": {
          "base_uri": "https://localhost:8080/"
        },
        "outputId": "91a3a9f2-2e99-4a96-cbb2-401e404a38d8"
      },
      "source": [
        "insurance_data.groupby('Agency')['Claim'].value_counts()"
      ],
      "execution_count": 98,
      "outputs": [
        {
          "output_type": "execute_result",
          "data": {
            "text/plain": [
              "Agency  Claim\n",
              "ADM     0           56\n",
              "ART     0          247\n",
              "        1            1\n",
              "C2B     0         5865\n",
              "        1          415\n",
              "CBH     0           70\n",
              "CCR     0          152\n",
              "        1            3\n",
              "CSR     0           65\n",
              "        1            1\n",
              "CWT     0         6506\n",
              "        1           66\n",
              "EPX     0        26557\n",
              "        1          155\n",
              "JWT     0          576\n",
              "        1            4\n",
              "JZI     0         4826\n",
              "        1           25\n",
              "KML     0          287\n",
              "        1            6\n",
              "LWC     0          508\n",
              "        1           24\n",
              "RAB     0          577\n",
              "SSI     0          803\n",
              "        1            4\n",
              "TST     0          388\n",
              "        1            1\n",
              "TTW     0           69\n",
              "        1            3\n",
              "Name: Claim, dtype: int64"
            ]
          },
          "metadata": {
            "tags": []
          },
          "execution_count": 98
        }
      ]
    },
    {
      "cell_type": "markdown",
      "metadata": {
        "id": "iGZLp8EDiE-o"
      },
      "source": [
        "# Missing data"
      ]
    },
    {
      "cell_type": "code",
      "metadata": {
        "id": "Yqy0-EHySqK6"
      },
      "source": [
        "def dropping_cols(data_test):\r\n",
        "  \r\n",
        "  ''' \r\n",
        "  '''\r\n",
        "\r\n",
        "  data_test.drop(columns = ['Commision (in value)', 'Gender'], inplace = True)\r\n",
        "\r\n",
        "  return data_test"
      ],
      "execution_count": 99,
      "outputs": []
    },
    {
      "cell_type": "markdown",
      "metadata": {
        "id": "a9Osgv5DRyEp"
      },
      "source": [
        "## Numerical"
      ]
    },
    {
      "cell_type": "code",
      "metadata": {
        "colab": {
          "base_uri": "https://localhost:8080/"
        },
        "id": "ZZXaUw2bgqv8",
        "outputId": "6673859e-41cb-4ac8-fcbc-034575735bbf"
      },
      "source": [
        "# numerical\r\n",
        "insurance_data[insurance_data['Duration']==0].count()"
      ],
      "execution_count": 100,
      "outputs": [
        {
          "output_type": "execute_result",
          "data": {
            "text/plain": [
              "Agency                  49\n",
              "Agency Type             49\n",
              "Distribution Channel    49\n",
              "Product Name            49\n",
              "Duration                49\n",
              "Destination             49\n",
              "Net Sales               49\n",
              "Commision (in value)    49\n",
              "Gender                  33\n",
              "Age                     49\n",
              "Claim                   49\n",
              "dtype: int64"
            ]
          },
          "metadata": {
            "tags": []
          },
          "execution_count": 100
        }
      ]
    },
    {
      "cell_type": "code",
      "metadata": {
        "colab": {
          "base_uri": "https://localhost:8080/"
        },
        "id": "oYGseBgGR3G5",
        "outputId": "f58e2544-d134-4a36-be6b-4a6cf57d0664"
      },
      "source": [
        "((insurance_data['Commision (in value)'] == 1) | (insurance_data['Commision (in value)'] == 0)).value_counts()"
      ],
      "execution_count": 101,
      "outputs": [
        {
          "output_type": "execute_result",
          "data": {
            "text/plain": [
              "True     26784\n",
              "False    21476\n",
              "Name: Commision (in value), dtype: int64"
            ]
          },
          "metadata": {
            "tags": []
          },
          "execution_count": 101
        }
      ]
    },
    {
      "cell_type": "code",
      "metadata": {
        "id": "D5M51LwnSahU"
      },
      "source": [
        "insurance_data.drop(columns = 'Commision (in value)', inplace = True)"
      ],
      "execution_count": 102,
      "outputs": []
    },
    {
      "cell_type": "markdown",
      "metadata": {
        "id": "zlU2uqN-R0rC"
      },
      "source": [
        "## Categorical"
      ]
    },
    {
      "cell_type": "code",
      "metadata": {
        "colab": {
          "base_uri": "https://localhost:8080/"
        },
        "id": "ADNZQKj85HGS",
        "outputId": "b00df70a-22a1-442e-e786-8b24765e3881"
      },
      "source": [
        "# categorical \r\n",
        "# Null values in Gender column\r\n",
        "insurance_data['Gender'].value_counts()"
      ],
      "execution_count": 103,
      "outputs": [
        {
          "output_type": "execute_result",
          "data": {
            "text/plain": [
              "M    7137\n",
              "F    6762\n",
              "Name: Gender, dtype: int64"
            ]
          },
          "metadata": {
            "tags": []
          },
          "execution_count": 103
        }
      ]
    },
    {
      "cell_type": "code",
      "metadata": {
        "id": "8MlTofS197u6"
      },
      "source": [
        "# Gender has >20% of missing values, and doesn't seem to be a strong predictor. Thus I drop the column.\r\n",
        "insurance_data.drop(columns = 'Gender', inplace = True)"
      ],
      "execution_count": 104,
      "outputs": []
    },
    {
      "cell_type": "code",
      "metadata": {
        "colab": {
          "base_uri": "https://localhost:8080/"
        },
        "id": "EBERSgciAmWn",
        "outputId": "601d0651-cdb5-42c7-b49f-5865c13f8448"
      },
      "source": [
        "# Is my dataset balanced?\r\n",
        "insurance_data['Claim'].value_counts()\r\n",
        "# see solution later"
      ],
      "execution_count": 105,
      "outputs": [
        {
          "output_type": "execute_result",
          "data": {
            "text/plain": [
              "0    47552\n",
              "1      708\n",
              "Name: Claim, dtype: int64"
            ]
          },
          "metadata": {
            "tags": []
          },
          "execution_count": 105
        }
      ]
    },
    {
      "cell_type": "code",
      "metadata": {
        "colab": {
          "base_uri": "https://localhost:8080/",
          "height": 0
        },
        "id": "L_fDtG3w_FUB",
        "outputId": "e262a516-9422-4899-c8d3-f89acde61d18"
      },
      "source": [
        "insurance_data.describe()"
      ],
      "execution_count": 106,
      "outputs": [
        {
          "output_type": "execute_result",
          "data": {
            "text/html": [
              "<div>\n",
              "<style scoped>\n",
              "    .dataframe tbody tr th:only-of-type {\n",
              "        vertical-align: middle;\n",
              "    }\n",
              "\n",
              "    .dataframe tbody tr th {\n",
              "        vertical-align: top;\n",
              "    }\n",
              "\n",
              "    .dataframe thead th {\n",
              "        text-align: right;\n",
              "    }\n",
              "</style>\n",
              "<table border=\"1\" class=\"dataframe\">\n",
              "  <thead>\n",
              "    <tr style=\"text-align: right;\">\n",
              "      <th></th>\n",
              "      <th>Duration</th>\n",
              "      <th>Net Sales</th>\n",
              "      <th>Age</th>\n",
              "      <th>Claim</th>\n",
              "    </tr>\n",
              "  </thead>\n",
              "  <tbody>\n",
              "    <tr>\n",
              "      <th>count</th>\n",
              "      <td>48260.000000</td>\n",
              "      <td>48260.000000</td>\n",
              "      <td>48260.000000</td>\n",
              "      <td>48260.000000</td>\n",
              "    </tr>\n",
              "    <tr>\n",
              "      <th>mean</th>\n",
              "      <td>49.546602</td>\n",
              "      <td>40.747647</td>\n",
              "      <td>39.927269</td>\n",
              "      <td>0.014671</td>\n",
              "    </tr>\n",
              "    <tr>\n",
              "      <th>std</th>\n",
              "      <td>104.828147</td>\n",
              "      <td>48.823217</td>\n",
              "      <td>14.027329</td>\n",
              "      <td>0.120231</td>\n",
              "    </tr>\n",
              "    <tr>\n",
              "      <th>min</th>\n",
              "      <td>-2.000000</td>\n",
              "      <td>-389.000000</td>\n",
              "      <td>0.000000</td>\n",
              "      <td>0.000000</td>\n",
              "    </tr>\n",
              "    <tr>\n",
              "      <th>25%</th>\n",
              "      <td>9.000000</td>\n",
              "      <td>18.000000</td>\n",
              "      <td>35.000000</td>\n",
              "      <td>0.000000</td>\n",
              "    </tr>\n",
              "    <tr>\n",
              "      <th>50%</th>\n",
              "      <td>22.000000</td>\n",
              "      <td>27.000000</td>\n",
              "      <td>36.000000</td>\n",
              "      <td>0.000000</td>\n",
              "    </tr>\n",
              "    <tr>\n",
              "      <th>75%</th>\n",
              "      <td>53.000000</td>\n",
              "      <td>48.000000</td>\n",
              "      <td>43.000000</td>\n",
              "      <td>0.000000</td>\n",
              "    </tr>\n",
              "    <tr>\n",
              "      <th>max</th>\n",
              "      <td>4881.000000</td>\n",
              "      <td>666.000000</td>\n",
              "      <td>118.000000</td>\n",
              "      <td>1.000000</td>\n",
              "    </tr>\n",
              "  </tbody>\n",
              "</table>\n",
              "</div>"
            ],
            "text/plain": [
              "           Duration     Net Sales           Age         Claim\n",
              "count  48260.000000  48260.000000  48260.000000  48260.000000\n",
              "mean      49.546602     40.747647     39.927269      0.014671\n",
              "std      104.828147     48.823217     14.027329      0.120231\n",
              "min       -2.000000   -389.000000      0.000000      0.000000\n",
              "25%        9.000000     18.000000     35.000000      0.000000\n",
              "50%       22.000000     27.000000     36.000000      0.000000\n",
              "75%       53.000000     48.000000     43.000000      0.000000\n",
              "max     4881.000000    666.000000    118.000000      1.000000"
            ]
          },
          "metadata": {
            "tags": []
          },
          "execution_count": 106
        }
      ]
    },
    {
      "cell_type": "markdown",
      "metadata": {
        "id": "JC1xfm0ii-JS"
      },
      "source": [
        "# Preprocessing pipeline "
      ]
    },
    {
      "cell_type": "code",
      "metadata": {
        "id": "bkRMNX-OCyEB"
      },
      "source": [
        "# Creating data \r\n",
        "y = insurance_data['Claim']\r\n",
        "X = insurance_data.drop(columns = 'Claim', inplace = False)"
      ],
      "execution_count": 107,
      "outputs": []
    },
    {
      "cell_type": "code",
      "metadata": {
        "colab": {
          "base_uri": "https://localhost:8080/",
          "height": 279
        },
        "id": "z3UnFqT3DLuJ",
        "outputId": "9c12b7f5-eb81-4793-cc6b-56e00f065d7b"
      },
      "source": [
        "X.head()"
      ],
      "execution_count": 108,
      "outputs": [
        {
          "output_type": "execute_result",
          "data": {
            "text/html": [
              "<div>\n",
              "<style scoped>\n",
              "    .dataframe tbody tr th:only-of-type {\n",
              "        vertical-align: middle;\n",
              "    }\n",
              "\n",
              "    .dataframe tbody tr th {\n",
              "        vertical-align: top;\n",
              "    }\n",
              "\n",
              "    .dataframe thead th {\n",
              "        text-align: right;\n",
              "    }\n",
              "</style>\n",
              "<table border=\"1\" class=\"dataframe\">\n",
              "  <thead>\n",
              "    <tr style=\"text-align: right;\">\n",
              "      <th></th>\n",
              "      <th>Agency</th>\n",
              "      <th>Agency Type</th>\n",
              "      <th>Distribution Channel</th>\n",
              "      <th>Product Name</th>\n",
              "      <th>Duration</th>\n",
              "      <th>Destination</th>\n",
              "      <th>Net Sales</th>\n",
              "      <th>Age</th>\n",
              "    </tr>\n",
              "  </thead>\n",
              "  <tbody>\n",
              "    <tr>\n",
              "      <th>0</th>\n",
              "      <td>CWT</td>\n",
              "      <td>Travel Agency</td>\n",
              "      <td>Online</td>\n",
              "      <td>Rental Vehicle Excess Insurance</td>\n",
              "      <td>61</td>\n",
              "      <td>UNITED KINGDOM</td>\n",
              "      <td>19.8</td>\n",
              "      <td>29</td>\n",
              "    </tr>\n",
              "    <tr>\n",
              "      <th>1</th>\n",
              "      <td>EPX</td>\n",
              "      <td>Travel Agency</td>\n",
              "      <td>Online</td>\n",
              "      <td>Cancellation Plan</td>\n",
              "      <td>93</td>\n",
              "      <td>NEW ZEALAND</td>\n",
              "      <td>63.0</td>\n",
              "      <td>36</td>\n",
              "    </tr>\n",
              "    <tr>\n",
              "      <th>2</th>\n",
              "      <td>EPX</td>\n",
              "      <td>Travel Agency</td>\n",
              "      <td>Online</td>\n",
              "      <td>2 way Comprehensive Plan</td>\n",
              "      <td>22</td>\n",
              "      <td>UNITED STATES</td>\n",
              "      <td>22.0</td>\n",
              "      <td>25</td>\n",
              "    </tr>\n",
              "    <tr>\n",
              "      <th>3</th>\n",
              "      <td>C2B</td>\n",
              "      <td>Airlines</td>\n",
              "      <td>Online</td>\n",
              "      <td>Silver Plan</td>\n",
              "      <td>14</td>\n",
              "      <td>SINGAPORE</td>\n",
              "      <td>54.5</td>\n",
              "      <td>24</td>\n",
              "    </tr>\n",
              "    <tr>\n",
              "      <th>4</th>\n",
              "      <td>EPX</td>\n",
              "      <td>Travel Agency</td>\n",
              "      <td>Online</td>\n",
              "      <td>Cancellation Plan</td>\n",
              "      <td>90</td>\n",
              "      <td>VIET NAM</td>\n",
              "      <td>10.0</td>\n",
              "      <td>23</td>\n",
              "    </tr>\n",
              "  </tbody>\n",
              "</table>\n",
              "</div>"
            ],
            "text/plain": [
              "  Agency    Agency Type Distribution Channel  ...     Destination  Net Sales Age\n",
              "0    CWT  Travel Agency               Online  ...  UNITED KINGDOM       19.8  29\n",
              "1    EPX  Travel Agency               Online  ...     NEW ZEALAND       63.0  36\n",
              "2    EPX  Travel Agency               Online  ...   UNITED STATES       22.0  25\n",
              "3    C2B       Airlines               Online  ...       SINGAPORE       54.5  24\n",
              "4    EPX  Travel Agency               Online  ...        VIET NAM       10.0  23\n",
              "\n",
              "[5 rows x 8 columns]"
            ]
          },
          "metadata": {
            "tags": []
          },
          "execution_count": 108
        }
      ]
    },
    {
      "cell_type": "markdown",
      "metadata": {
        "id": "HHlWXCjGjF4F"
      },
      "source": [
        "## Categorical data"
      ]
    },
    {
      "cell_type": "code",
      "metadata": {
        "id": "kMTWTm8yGwoo"
      },
      "source": [
        "cat = X.select_dtypes(['object']).columns"
      ],
      "execution_count": 109,
      "outputs": []
    },
    {
      "cell_type": "code",
      "metadata": {
        "colab": {
          "base_uri": "https://localhost:8080/"
        },
        "id": "OZI5MmlBKBtq",
        "outputId": "9b887b92-7e3c-4bd0-9680-4e5960c0d5e9"
      },
      "source": [
        "X.select_dtypes(['object']).columns"
      ],
      "execution_count": 110,
      "outputs": [
        {
          "output_type": "execute_result",
          "data": {
            "text/plain": [
              "Index(['Agency', 'Agency Type', 'Distribution Channel', 'Product Name',\n",
              "       'Destination'],\n",
              "      dtype='object')"
            ]
          },
          "metadata": {
            "tags": []
          },
          "execution_count": 110
        }
      ]
    },
    {
      "cell_type": "code",
      "metadata": {
        "id": "i50polo_J47N"
      },
      "source": [
        "# Get the categorical columns\r\n",
        "cat_columns = X.select_dtypes(['object']).columns"
      ],
      "execution_count": 111,
      "outputs": []
    },
    {
      "cell_type": "code",
      "metadata": {
        "id": "gYH1CJ1VdcyR"
      },
      "source": [
        "# Encode categorical data \r\n",
        "X_enc = pd.get_dummies(X, drop_first = True, prefix_sep=\"__\", columns=cat_columns)"
      ],
      "execution_count": 112,
      "outputs": []
    },
    {
      "cell_type": "code",
      "metadata": {
        "colab": {
          "base_uri": "https://localhost:8080/",
          "height": 311
        },
        "id": "j5gHApIxdnU3",
        "outputId": "006075af-c2e3-419b-96fc-c586e8627983"
      },
      "source": [
        "X_enc.head()"
      ],
      "execution_count": 113,
      "outputs": [
        {
          "output_type": "execute_result",
          "data": {
            "text/html": [
              "<div>\n",
              "<style scoped>\n",
              "    .dataframe tbody tr th:only-of-type {\n",
              "        vertical-align: middle;\n",
              "    }\n",
              "\n",
              "    .dataframe tbody tr th {\n",
              "        vertical-align: top;\n",
              "    }\n",
              "\n",
              "    .dataframe thead th {\n",
              "        text-align: right;\n",
              "    }\n",
              "</style>\n",
              "<table border=\"1\" class=\"dataframe\">\n",
              "  <thead>\n",
              "    <tr style=\"text-align: right;\">\n",
              "      <th></th>\n",
              "      <th>Duration</th>\n",
              "      <th>Net Sales</th>\n",
              "      <th>Age</th>\n",
              "      <th>Agency__ART</th>\n",
              "      <th>Agency__C2B</th>\n",
              "      <th>Agency__CBH</th>\n",
              "      <th>Agency__CCR</th>\n",
              "      <th>Agency__CSR</th>\n",
              "      <th>Agency__CWT</th>\n",
              "      <th>Agency__EPX</th>\n",
              "      <th>Agency__JWT</th>\n",
              "      <th>Agency__JZI</th>\n",
              "      <th>Agency__KML</th>\n",
              "      <th>Agency__LWC</th>\n",
              "      <th>Agency__RAB</th>\n",
              "      <th>Agency__SSI</th>\n",
              "      <th>Agency__TST</th>\n",
              "      <th>Agency__TTW</th>\n",
              "      <th>Agency Type__Travel Agency</th>\n",
              "      <th>Distribution Channel__Online</th>\n",
              "      <th>Product Name__2 way Comprehensive Plan</th>\n",
              "      <th>Product Name__24 Protect</th>\n",
              "      <th>Product Name__Annual Gold Plan</th>\n",
              "      <th>Product Name__Annual Silver Plan</th>\n",
              "      <th>Product Name__Annual Travel Protect Gold</th>\n",
              "      <th>Product Name__Annual Travel Protect Platinum</th>\n",
              "      <th>Product Name__Annual Travel Protect Silver</th>\n",
              "      <th>Product Name__Basic Plan</th>\n",
              "      <th>Product Name__Bronze Plan</th>\n",
              "      <th>Product Name__Cancellation Plan</th>\n",
              "      <th>Product Name__Child Comprehensive Plan</th>\n",
              "      <th>Product Name__Comprehensive Plan</th>\n",
              "      <th>Product Name__Gold Plan</th>\n",
              "      <th>Product Name__Individual Comprehensive Plan</th>\n",
              "      <th>Product Name__Premier Plan</th>\n",
              "      <th>Product Name__Rental Vehicle Excess Insurance</th>\n",
              "      <th>Product Name__Silver Plan</th>\n",
              "      <th>Product Name__Single Trip Travel Protect Gold</th>\n",
              "      <th>Product Name__Single Trip Travel Protect Platinum</th>\n",
              "      <th>Product Name__Single Trip Travel Protect Silver</th>\n",
              "      <th>...</th>\n",
              "      <th>Destination__PORTUGAL</th>\n",
              "      <th>Destination__PUERTO RICO</th>\n",
              "      <th>Destination__QATAR</th>\n",
              "      <th>Destination__REPUBLIC OF MONTENEGRO</th>\n",
              "      <th>Destination__REUNION</th>\n",
              "      <th>Destination__ROMANIA</th>\n",
              "      <th>Destination__RUSSIAN FEDERATION</th>\n",
              "      <th>Destination__SAMOA</th>\n",
              "      <th>Destination__SAUDI ARABIA</th>\n",
              "      <th>Destination__SERBIA</th>\n",
              "      <th>Destination__SEYCHELLES</th>\n",
              "      <th>Destination__SINGAPORE</th>\n",
              "      <th>Destination__SLOVENIA</th>\n",
              "      <th>Destination__SOLOMON ISLANDS</th>\n",
              "      <th>Destination__SOUTH AFRICA</th>\n",
              "      <th>Destination__SPAIN</th>\n",
              "      <th>Destination__SRI LANKA</th>\n",
              "      <th>Destination__SWEDEN</th>\n",
              "      <th>Destination__SWITZERLAND</th>\n",
              "      <th>Destination__TAIWAN, PROVINCE OF CHINA</th>\n",
              "      <th>Destination__TANZANIA, UNITED REPUBLIC OF</th>\n",
              "      <th>Destination__THAILAND</th>\n",
              "      <th>Destination__TIBET</th>\n",
              "      <th>Destination__TRINIDAD AND TOBAGO</th>\n",
              "      <th>Destination__TUNISIA</th>\n",
              "      <th>Destination__TURKEY</th>\n",
              "      <th>Destination__TURKMENISTAN</th>\n",
              "      <th>Destination__UGANDA</th>\n",
              "      <th>Destination__UKRAINE</th>\n",
              "      <th>Destination__UNITED ARAB EMIRATES</th>\n",
              "      <th>Destination__UNITED KINGDOM</th>\n",
              "      <th>Destination__UNITED STATES</th>\n",
              "      <th>Destination__URUGUAY</th>\n",
              "      <th>Destination__UZBEKISTAN</th>\n",
              "      <th>Destination__VANUATU</th>\n",
              "      <th>Destination__VENEZUELA</th>\n",
              "      <th>Destination__VIET NAM</th>\n",
              "      <th>Destination__VIRGIN ISLANDS, U.S.</th>\n",
              "      <th>Destination__ZAMBIA</th>\n",
              "      <th>Destination__ZIMBABWE</th>\n",
              "    </tr>\n",
              "  </thead>\n",
              "  <tbody>\n",
              "    <tr>\n",
              "      <th>0</th>\n",
              "      <td>61</td>\n",
              "      <td>19.8</td>\n",
              "      <td>29</td>\n",
              "      <td>0</td>\n",
              "      <td>0</td>\n",
              "      <td>0</td>\n",
              "      <td>0</td>\n",
              "      <td>0</td>\n",
              "      <td>1</td>\n",
              "      <td>0</td>\n",
              "      <td>0</td>\n",
              "      <td>0</td>\n",
              "      <td>0</td>\n",
              "      <td>0</td>\n",
              "      <td>0</td>\n",
              "      <td>0</td>\n",
              "      <td>0</td>\n",
              "      <td>0</td>\n",
              "      <td>1</td>\n",
              "      <td>1</td>\n",
              "      <td>0</td>\n",
              "      <td>0</td>\n",
              "      <td>0</td>\n",
              "      <td>0</td>\n",
              "      <td>0</td>\n",
              "      <td>0</td>\n",
              "      <td>0</td>\n",
              "      <td>0</td>\n",
              "      <td>0</td>\n",
              "      <td>0</td>\n",
              "      <td>0</td>\n",
              "      <td>0</td>\n",
              "      <td>0</td>\n",
              "      <td>0</td>\n",
              "      <td>0</td>\n",
              "      <td>1</td>\n",
              "      <td>0</td>\n",
              "      <td>0</td>\n",
              "      <td>0</td>\n",
              "      <td>0</td>\n",
              "      <td>...</td>\n",
              "      <td>0</td>\n",
              "      <td>0</td>\n",
              "      <td>0</td>\n",
              "      <td>0</td>\n",
              "      <td>0</td>\n",
              "      <td>0</td>\n",
              "      <td>0</td>\n",
              "      <td>0</td>\n",
              "      <td>0</td>\n",
              "      <td>0</td>\n",
              "      <td>0</td>\n",
              "      <td>0</td>\n",
              "      <td>0</td>\n",
              "      <td>0</td>\n",
              "      <td>0</td>\n",
              "      <td>0</td>\n",
              "      <td>0</td>\n",
              "      <td>0</td>\n",
              "      <td>0</td>\n",
              "      <td>0</td>\n",
              "      <td>0</td>\n",
              "      <td>0</td>\n",
              "      <td>0</td>\n",
              "      <td>0</td>\n",
              "      <td>0</td>\n",
              "      <td>0</td>\n",
              "      <td>0</td>\n",
              "      <td>0</td>\n",
              "      <td>0</td>\n",
              "      <td>0</td>\n",
              "      <td>1</td>\n",
              "      <td>0</td>\n",
              "      <td>0</td>\n",
              "      <td>0</td>\n",
              "      <td>0</td>\n",
              "      <td>0</td>\n",
              "      <td>0</td>\n",
              "      <td>0</td>\n",
              "      <td>0</td>\n",
              "      <td>0</td>\n",
              "    </tr>\n",
              "    <tr>\n",
              "      <th>1</th>\n",
              "      <td>93</td>\n",
              "      <td>63.0</td>\n",
              "      <td>36</td>\n",
              "      <td>0</td>\n",
              "      <td>0</td>\n",
              "      <td>0</td>\n",
              "      <td>0</td>\n",
              "      <td>0</td>\n",
              "      <td>0</td>\n",
              "      <td>1</td>\n",
              "      <td>0</td>\n",
              "      <td>0</td>\n",
              "      <td>0</td>\n",
              "      <td>0</td>\n",
              "      <td>0</td>\n",
              "      <td>0</td>\n",
              "      <td>0</td>\n",
              "      <td>0</td>\n",
              "      <td>1</td>\n",
              "      <td>1</td>\n",
              "      <td>0</td>\n",
              "      <td>0</td>\n",
              "      <td>0</td>\n",
              "      <td>0</td>\n",
              "      <td>0</td>\n",
              "      <td>0</td>\n",
              "      <td>0</td>\n",
              "      <td>0</td>\n",
              "      <td>0</td>\n",
              "      <td>1</td>\n",
              "      <td>0</td>\n",
              "      <td>0</td>\n",
              "      <td>0</td>\n",
              "      <td>0</td>\n",
              "      <td>0</td>\n",
              "      <td>0</td>\n",
              "      <td>0</td>\n",
              "      <td>0</td>\n",
              "      <td>0</td>\n",
              "      <td>0</td>\n",
              "      <td>...</td>\n",
              "      <td>0</td>\n",
              "      <td>0</td>\n",
              "      <td>0</td>\n",
              "      <td>0</td>\n",
              "      <td>0</td>\n",
              "      <td>0</td>\n",
              "      <td>0</td>\n",
              "      <td>0</td>\n",
              "      <td>0</td>\n",
              "      <td>0</td>\n",
              "      <td>0</td>\n",
              "      <td>0</td>\n",
              "      <td>0</td>\n",
              "      <td>0</td>\n",
              "      <td>0</td>\n",
              "      <td>0</td>\n",
              "      <td>0</td>\n",
              "      <td>0</td>\n",
              "      <td>0</td>\n",
              "      <td>0</td>\n",
              "      <td>0</td>\n",
              "      <td>0</td>\n",
              "      <td>0</td>\n",
              "      <td>0</td>\n",
              "      <td>0</td>\n",
              "      <td>0</td>\n",
              "      <td>0</td>\n",
              "      <td>0</td>\n",
              "      <td>0</td>\n",
              "      <td>0</td>\n",
              "      <td>0</td>\n",
              "      <td>0</td>\n",
              "      <td>0</td>\n",
              "      <td>0</td>\n",
              "      <td>0</td>\n",
              "      <td>0</td>\n",
              "      <td>0</td>\n",
              "      <td>0</td>\n",
              "      <td>0</td>\n",
              "      <td>0</td>\n",
              "    </tr>\n",
              "    <tr>\n",
              "      <th>2</th>\n",
              "      <td>22</td>\n",
              "      <td>22.0</td>\n",
              "      <td>25</td>\n",
              "      <td>0</td>\n",
              "      <td>0</td>\n",
              "      <td>0</td>\n",
              "      <td>0</td>\n",
              "      <td>0</td>\n",
              "      <td>0</td>\n",
              "      <td>1</td>\n",
              "      <td>0</td>\n",
              "      <td>0</td>\n",
              "      <td>0</td>\n",
              "      <td>0</td>\n",
              "      <td>0</td>\n",
              "      <td>0</td>\n",
              "      <td>0</td>\n",
              "      <td>0</td>\n",
              "      <td>1</td>\n",
              "      <td>1</td>\n",
              "      <td>1</td>\n",
              "      <td>0</td>\n",
              "      <td>0</td>\n",
              "      <td>0</td>\n",
              "      <td>0</td>\n",
              "      <td>0</td>\n",
              "      <td>0</td>\n",
              "      <td>0</td>\n",
              "      <td>0</td>\n",
              "      <td>0</td>\n",
              "      <td>0</td>\n",
              "      <td>0</td>\n",
              "      <td>0</td>\n",
              "      <td>0</td>\n",
              "      <td>0</td>\n",
              "      <td>0</td>\n",
              "      <td>0</td>\n",
              "      <td>0</td>\n",
              "      <td>0</td>\n",
              "      <td>0</td>\n",
              "      <td>...</td>\n",
              "      <td>0</td>\n",
              "      <td>0</td>\n",
              "      <td>0</td>\n",
              "      <td>0</td>\n",
              "      <td>0</td>\n",
              "      <td>0</td>\n",
              "      <td>0</td>\n",
              "      <td>0</td>\n",
              "      <td>0</td>\n",
              "      <td>0</td>\n",
              "      <td>0</td>\n",
              "      <td>0</td>\n",
              "      <td>0</td>\n",
              "      <td>0</td>\n",
              "      <td>0</td>\n",
              "      <td>0</td>\n",
              "      <td>0</td>\n",
              "      <td>0</td>\n",
              "      <td>0</td>\n",
              "      <td>0</td>\n",
              "      <td>0</td>\n",
              "      <td>0</td>\n",
              "      <td>0</td>\n",
              "      <td>0</td>\n",
              "      <td>0</td>\n",
              "      <td>0</td>\n",
              "      <td>0</td>\n",
              "      <td>0</td>\n",
              "      <td>0</td>\n",
              "      <td>0</td>\n",
              "      <td>0</td>\n",
              "      <td>1</td>\n",
              "      <td>0</td>\n",
              "      <td>0</td>\n",
              "      <td>0</td>\n",
              "      <td>0</td>\n",
              "      <td>0</td>\n",
              "      <td>0</td>\n",
              "      <td>0</td>\n",
              "      <td>0</td>\n",
              "    </tr>\n",
              "    <tr>\n",
              "      <th>3</th>\n",
              "      <td>14</td>\n",
              "      <td>54.5</td>\n",
              "      <td>24</td>\n",
              "      <td>0</td>\n",
              "      <td>1</td>\n",
              "      <td>0</td>\n",
              "      <td>0</td>\n",
              "      <td>0</td>\n",
              "      <td>0</td>\n",
              "      <td>0</td>\n",
              "      <td>0</td>\n",
              "      <td>0</td>\n",
              "      <td>0</td>\n",
              "      <td>0</td>\n",
              "      <td>0</td>\n",
              "      <td>0</td>\n",
              "      <td>0</td>\n",
              "      <td>0</td>\n",
              "      <td>0</td>\n",
              "      <td>1</td>\n",
              "      <td>0</td>\n",
              "      <td>0</td>\n",
              "      <td>0</td>\n",
              "      <td>0</td>\n",
              "      <td>0</td>\n",
              "      <td>0</td>\n",
              "      <td>0</td>\n",
              "      <td>0</td>\n",
              "      <td>0</td>\n",
              "      <td>0</td>\n",
              "      <td>0</td>\n",
              "      <td>0</td>\n",
              "      <td>0</td>\n",
              "      <td>0</td>\n",
              "      <td>0</td>\n",
              "      <td>0</td>\n",
              "      <td>1</td>\n",
              "      <td>0</td>\n",
              "      <td>0</td>\n",
              "      <td>0</td>\n",
              "      <td>...</td>\n",
              "      <td>0</td>\n",
              "      <td>0</td>\n",
              "      <td>0</td>\n",
              "      <td>0</td>\n",
              "      <td>0</td>\n",
              "      <td>0</td>\n",
              "      <td>0</td>\n",
              "      <td>0</td>\n",
              "      <td>0</td>\n",
              "      <td>0</td>\n",
              "      <td>0</td>\n",
              "      <td>1</td>\n",
              "      <td>0</td>\n",
              "      <td>0</td>\n",
              "      <td>0</td>\n",
              "      <td>0</td>\n",
              "      <td>0</td>\n",
              "      <td>0</td>\n",
              "      <td>0</td>\n",
              "      <td>0</td>\n",
              "      <td>0</td>\n",
              "      <td>0</td>\n",
              "      <td>0</td>\n",
              "      <td>0</td>\n",
              "      <td>0</td>\n",
              "      <td>0</td>\n",
              "      <td>0</td>\n",
              "      <td>0</td>\n",
              "      <td>0</td>\n",
              "      <td>0</td>\n",
              "      <td>0</td>\n",
              "      <td>0</td>\n",
              "      <td>0</td>\n",
              "      <td>0</td>\n",
              "      <td>0</td>\n",
              "      <td>0</td>\n",
              "      <td>0</td>\n",
              "      <td>0</td>\n",
              "      <td>0</td>\n",
              "      <td>0</td>\n",
              "    </tr>\n",
              "    <tr>\n",
              "      <th>4</th>\n",
              "      <td>90</td>\n",
              "      <td>10.0</td>\n",
              "      <td>23</td>\n",
              "      <td>0</td>\n",
              "      <td>0</td>\n",
              "      <td>0</td>\n",
              "      <td>0</td>\n",
              "      <td>0</td>\n",
              "      <td>0</td>\n",
              "      <td>1</td>\n",
              "      <td>0</td>\n",
              "      <td>0</td>\n",
              "      <td>0</td>\n",
              "      <td>0</td>\n",
              "      <td>0</td>\n",
              "      <td>0</td>\n",
              "      <td>0</td>\n",
              "      <td>0</td>\n",
              "      <td>1</td>\n",
              "      <td>1</td>\n",
              "      <td>0</td>\n",
              "      <td>0</td>\n",
              "      <td>0</td>\n",
              "      <td>0</td>\n",
              "      <td>0</td>\n",
              "      <td>0</td>\n",
              "      <td>0</td>\n",
              "      <td>0</td>\n",
              "      <td>0</td>\n",
              "      <td>1</td>\n",
              "      <td>0</td>\n",
              "      <td>0</td>\n",
              "      <td>0</td>\n",
              "      <td>0</td>\n",
              "      <td>0</td>\n",
              "      <td>0</td>\n",
              "      <td>0</td>\n",
              "      <td>0</td>\n",
              "      <td>0</td>\n",
              "      <td>0</td>\n",
              "      <td>...</td>\n",
              "      <td>0</td>\n",
              "      <td>0</td>\n",
              "      <td>0</td>\n",
              "      <td>0</td>\n",
              "      <td>0</td>\n",
              "      <td>0</td>\n",
              "      <td>0</td>\n",
              "      <td>0</td>\n",
              "      <td>0</td>\n",
              "      <td>0</td>\n",
              "      <td>0</td>\n",
              "      <td>0</td>\n",
              "      <td>0</td>\n",
              "      <td>0</td>\n",
              "      <td>0</td>\n",
              "      <td>0</td>\n",
              "      <td>0</td>\n",
              "      <td>0</td>\n",
              "      <td>0</td>\n",
              "      <td>0</td>\n",
              "      <td>0</td>\n",
              "      <td>0</td>\n",
              "      <td>0</td>\n",
              "      <td>0</td>\n",
              "      <td>0</td>\n",
              "      <td>0</td>\n",
              "      <td>0</td>\n",
              "      <td>0</td>\n",
              "      <td>0</td>\n",
              "      <td>0</td>\n",
              "      <td>0</td>\n",
              "      <td>0</td>\n",
              "      <td>0</td>\n",
              "      <td>0</td>\n",
              "      <td>0</td>\n",
              "      <td>0</td>\n",
              "      <td>1</td>\n",
              "      <td>0</td>\n",
              "      <td>0</td>\n",
              "      <td>0</td>\n",
              "    </tr>\n",
              "  </tbody>\n",
              "</table>\n",
              "<p>5 rows × 185 columns</p>\n",
              "</div>"
            ],
            "text/plain": [
              "   Duration  Net Sales  ...  Destination__ZAMBIA  Destination__ZIMBABWE\n",
              "0        61       19.8  ...                    0                      0\n",
              "1        93       63.0  ...                    0                      0\n",
              "2        22       22.0  ...                    0                      0\n",
              "3        14       54.5  ...                    0                      0\n",
              "4        90       10.0  ...                    0                      0\n",
              "\n",
              "[5 rows x 185 columns]"
            ]
          },
          "metadata": {
            "tags": []
          },
          "execution_count": 113
        }
      ]
    },
    {
      "cell_type": "code",
      "metadata": {
        "id": "WtDi6k3EJL1b"
      },
      "source": [
        "# save the dummy columns \r\n",
        "cat_dummies = [col for col in X_enc \r\n",
        "               if \"__\" in col \r\n",
        "               and col.split(\"__\")[0] in cat_columns]"
      ],
      "execution_count": 114,
      "outputs": []
    },
    {
      "cell_type": "code",
      "metadata": {
        "id": "TC4plHunJToH",
        "colab": {
          "base_uri": "https://localhost:8080/"
        },
        "outputId": "244e80e3-ebb3-4361-f689-5023e08ebfe4"
      },
      "source": [
        "cat_dummies"
      ],
      "execution_count": 115,
      "outputs": [
        {
          "output_type": "execute_result",
          "data": {
            "text/plain": [
              "['Agency__ART',\n",
              " 'Agency__C2B',\n",
              " 'Agency__CBH',\n",
              " 'Agency__CCR',\n",
              " 'Agency__CSR',\n",
              " 'Agency__CWT',\n",
              " 'Agency__EPX',\n",
              " 'Agency__JWT',\n",
              " 'Agency__JZI',\n",
              " 'Agency__KML',\n",
              " 'Agency__LWC',\n",
              " 'Agency__RAB',\n",
              " 'Agency__SSI',\n",
              " 'Agency__TST',\n",
              " 'Agency__TTW',\n",
              " 'Agency Type__Travel Agency',\n",
              " 'Distribution Channel__Online',\n",
              " 'Product Name__2 way Comprehensive Plan',\n",
              " 'Product Name__24 Protect',\n",
              " 'Product Name__Annual Gold Plan',\n",
              " 'Product Name__Annual Silver Plan',\n",
              " 'Product Name__Annual Travel Protect Gold',\n",
              " 'Product Name__Annual Travel Protect Platinum',\n",
              " 'Product Name__Annual Travel Protect Silver',\n",
              " 'Product Name__Basic Plan',\n",
              " 'Product Name__Bronze Plan',\n",
              " 'Product Name__Cancellation Plan',\n",
              " 'Product Name__Child Comprehensive Plan',\n",
              " 'Product Name__Comprehensive Plan',\n",
              " 'Product Name__Gold Plan',\n",
              " 'Product Name__Individual Comprehensive Plan',\n",
              " 'Product Name__Premier Plan',\n",
              " 'Product Name__Rental Vehicle Excess Insurance',\n",
              " 'Product Name__Silver Plan',\n",
              " 'Product Name__Single Trip Travel Protect Gold',\n",
              " 'Product Name__Single Trip Travel Protect Platinum',\n",
              " 'Product Name__Single Trip Travel Protect Silver',\n",
              " 'Product Name__Spouse or Parents Comprehensive Plan',\n",
              " 'Product Name__Ticket Protector',\n",
              " 'Product Name__Travel Cruise Protect',\n",
              " 'Product Name__Travel Cruise Protect Family',\n",
              " 'Product Name__Value Plan',\n",
              " 'Destination__ANGOLA',\n",
              " 'Destination__ARGENTINA',\n",
              " 'Destination__ARMENIA',\n",
              " 'Destination__AUSTRALIA',\n",
              " 'Destination__AUSTRIA',\n",
              " 'Destination__AZERBAIJAN',\n",
              " 'Destination__BAHRAIN',\n",
              " 'Destination__BANGLADESH',\n",
              " 'Destination__BARBADOS',\n",
              " 'Destination__BELARUS',\n",
              " 'Destination__BELGIUM',\n",
              " 'Destination__BENIN',\n",
              " 'Destination__BERMUDA',\n",
              " 'Destination__BHUTAN',\n",
              " 'Destination__BOLIVIA',\n",
              " 'Destination__BOSNIA AND HERZEGOVINA',\n",
              " 'Destination__BOTSWANA',\n",
              " 'Destination__BRAZIL',\n",
              " 'Destination__BRUNEI DARUSSALAM',\n",
              " 'Destination__BULGARIA',\n",
              " 'Destination__CAMBODIA',\n",
              " 'Destination__CANADA',\n",
              " 'Destination__CAYMAN ISLANDS',\n",
              " 'Destination__CHILE',\n",
              " 'Destination__CHINA',\n",
              " 'Destination__COLOMBIA',\n",
              " 'Destination__COSTA RICA',\n",
              " 'Destination__CROATIA',\n",
              " 'Destination__CYPRUS',\n",
              " 'Destination__CZECH REPUBLIC',\n",
              " 'Destination__DENMARK',\n",
              " 'Destination__DOMINICAN REPUBLIC',\n",
              " 'Destination__ECUADOR',\n",
              " 'Destination__EGYPT',\n",
              " 'Destination__ESTONIA',\n",
              " 'Destination__ETHIOPIA',\n",
              " 'Destination__FAROE ISLANDS',\n",
              " 'Destination__FIJI',\n",
              " 'Destination__FINLAND',\n",
              " 'Destination__FRANCE',\n",
              " 'Destination__FRENCH POLYNESIA',\n",
              " 'Destination__GEORGIA',\n",
              " 'Destination__GERMANY',\n",
              " 'Destination__GHANA',\n",
              " 'Destination__GREECE',\n",
              " 'Destination__GUADELOUPE',\n",
              " 'Destination__GUAM',\n",
              " 'Destination__GUATEMALA',\n",
              " 'Destination__GUINEA',\n",
              " 'Destination__GUINEA-BISSAU',\n",
              " 'Destination__GUYANA',\n",
              " 'Destination__HONG KONG',\n",
              " 'Destination__HUNGARY',\n",
              " 'Destination__ICELAND',\n",
              " 'Destination__INDIA',\n",
              " 'Destination__INDONESIA',\n",
              " 'Destination__IRAN, ISLAMIC REPUBLIC OF',\n",
              " 'Destination__IRELAND',\n",
              " 'Destination__ISRAEL',\n",
              " 'Destination__ITALY',\n",
              " 'Destination__JAMAICA',\n",
              " 'Destination__JAPAN',\n",
              " 'Destination__JORDAN',\n",
              " 'Destination__KAZAKHSTAN',\n",
              " 'Destination__KENYA',\n",
              " \"Destination__KOREA, DEMOCRATIC PEOPLE'S REPUBLIC OF\",\n",
              " 'Destination__KOREA, REPUBLIC OF',\n",
              " 'Destination__KUWAIT',\n",
              " 'Destination__KYRGYZSTAN',\n",
              " \"Destination__LAO PEOPLE'S DEMOCRATIC REPUBLIC\",\n",
              " 'Destination__LATVIA',\n",
              " 'Destination__LEBANON',\n",
              " 'Destination__LIBYAN ARAB JAMAHIRIYA',\n",
              " 'Destination__LITHUANIA',\n",
              " 'Destination__LUXEMBOURG',\n",
              " 'Destination__MACAO',\n",
              " 'Destination__MACEDONIA, THE FORMER YUGOSLAV REPUBLIC OF',\n",
              " 'Destination__MALAYSIA',\n",
              " 'Destination__MALDIVES',\n",
              " 'Destination__MALI',\n",
              " 'Destination__MALTA',\n",
              " 'Destination__MAURITIUS',\n",
              " 'Destination__MEXICO',\n",
              " 'Destination__MONGOLIA',\n",
              " 'Destination__MOROCCO',\n",
              " 'Destination__MYANMAR',\n",
              " 'Destination__NAMIBIA',\n",
              " 'Destination__NEPAL',\n",
              " 'Destination__NETHERLANDS',\n",
              " 'Destination__NEW ZEALAND',\n",
              " 'Destination__NIGERIA',\n",
              " 'Destination__NORTHERN MARIANA ISLANDS',\n",
              " 'Destination__NORWAY',\n",
              " 'Destination__OMAN',\n",
              " 'Destination__PAKISTAN',\n",
              " 'Destination__PANAMA',\n",
              " 'Destination__PAPUA NEW GUINEA',\n",
              " 'Destination__PERU',\n",
              " 'Destination__PHILIPPINES',\n",
              " 'Destination__POLAND',\n",
              " 'Destination__PORTUGAL',\n",
              " 'Destination__PUERTO RICO',\n",
              " 'Destination__QATAR',\n",
              " 'Destination__REPUBLIC OF MONTENEGRO',\n",
              " 'Destination__REUNION',\n",
              " 'Destination__ROMANIA',\n",
              " 'Destination__RUSSIAN FEDERATION',\n",
              " 'Destination__SAMOA',\n",
              " 'Destination__SAUDI ARABIA',\n",
              " 'Destination__SERBIA',\n",
              " 'Destination__SEYCHELLES',\n",
              " 'Destination__SINGAPORE',\n",
              " 'Destination__SLOVENIA',\n",
              " 'Destination__SOLOMON ISLANDS',\n",
              " 'Destination__SOUTH AFRICA',\n",
              " 'Destination__SPAIN',\n",
              " 'Destination__SRI LANKA',\n",
              " 'Destination__SWEDEN',\n",
              " 'Destination__SWITZERLAND',\n",
              " 'Destination__TAIWAN, PROVINCE OF CHINA',\n",
              " 'Destination__TANZANIA, UNITED REPUBLIC OF',\n",
              " 'Destination__THAILAND',\n",
              " 'Destination__TIBET',\n",
              " 'Destination__TRINIDAD AND TOBAGO',\n",
              " 'Destination__TUNISIA',\n",
              " 'Destination__TURKEY',\n",
              " 'Destination__TURKMENISTAN',\n",
              " 'Destination__UGANDA',\n",
              " 'Destination__UKRAINE',\n",
              " 'Destination__UNITED ARAB EMIRATES',\n",
              " 'Destination__UNITED KINGDOM',\n",
              " 'Destination__UNITED STATES',\n",
              " 'Destination__URUGUAY',\n",
              " 'Destination__UZBEKISTAN',\n",
              " 'Destination__VANUATU',\n",
              " 'Destination__VENEZUELA',\n",
              " 'Destination__VIET NAM',\n",
              " 'Destination__VIRGIN ISLANDS, U.S.',\n",
              " 'Destination__ZAMBIA',\n",
              " 'Destination__ZIMBABWE']"
            ]
          },
          "metadata": {
            "tags": []
          },
          "execution_count": 115
        }
      ]
    },
    {
      "cell_type": "code",
      "metadata": {
        "id": "yY3KOJKRKf6U"
      },
      "source": [
        "processed_columns = list(X_enc.columns[:])"
      ],
      "execution_count": 116,
      "outputs": []
    },
    {
      "cell_type": "code",
      "metadata": {
        "id": "s013UGbtKlh_",
        "colab": {
          "base_uri": "https://localhost:8080/"
        },
        "outputId": "9da46685-a5ef-46bf-ce0f-5532ea8c718c"
      },
      "source": [
        "processed_columns"
      ],
      "execution_count": 117,
      "outputs": [
        {
          "output_type": "execute_result",
          "data": {
            "text/plain": [
              "['Duration',\n",
              " 'Net Sales',\n",
              " 'Age',\n",
              " 'Agency__ART',\n",
              " 'Agency__C2B',\n",
              " 'Agency__CBH',\n",
              " 'Agency__CCR',\n",
              " 'Agency__CSR',\n",
              " 'Agency__CWT',\n",
              " 'Agency__EPX',\n",
              " 'Agency__JWT',\n",
              " 'Agency__JZI',\n",
              " 'Agency__KML',\n",
              " 'Agency__LWC',\n",
              " 'Agency__RAB',\n",
              " 'Agency__SSI',\n",
              " 'Agency__TST',\n",
              " 'Agency__TTW',\n",
              " 'Agency Type__Travel Agency',\n",
              " 'Distribution Channel__Online',\n",
              " 'Product Name__2 way Comprehensive Plan',\n",
              " 'Product Name__24 Protect',\n",
              " 'Product Name__Annual Gold Plan',\n",
              " 'Product Name__Annual Silver Plan',\n",
              " 'Product Name__Annual Travel Protect Gold',\n",
              " 'Product Name__Annual Travel Protect Platinum',\n",
              " 'Product Name__Annual Travel Protect Silver',\n",
              " 'Product Name__Basic Plan',\n",
              " 'Product Name__Bronze Plan',\n",
              " 'Product Name__Cancellation Plan',\n",
              " 'Product Name__Child Comprehensive Plan',\n",
              " 'Product Name__Comprehensive Plan',\n",
              " 'Product Name__Gold Plan',\n",
              " 'Product Name__Individual Comprehensive Plan',\n",
              " 'Product Name__Premier Plan',\n",
              " 'Product Name__Rental Vehicle Excess Insurance',\n",
              " 'Product Name__Silver Plan',\n",
              " 'Product Name__Single Trip Travel Protect Gold',\n",
              " 'Product Name__Single Trip Travel Protect Platinum',\n",
              " 'Product Name__Single Trip Travel Protect Silver',\n",
              " 'Product Name__Spouse or Parents Comprehensive Plan',\n",
              " 'Product Name__Ticket Protector',\n",
              " 'Product Name__Travel Cruise Protect',\n",
              " 'Product Name__Travel Cruise Protect Family',\n",
              " 'Product Name__Value Plan',\n",
              " 'Destination__ANGOLA',\n",
              " 'Destination__ARGENTINA',\n",
              " 'Destination__ARMENIA',\n",
              " 'Destination__AUSTRALIA',\n",
              " 'Destination__AUSTRIA',\n",
              " 'Destination__AZERBAIJAN',\n",
              " 'Destination__BAHRAIN',\n",
              " 'Destination__BANGLADESH',\n",
              " 'Destination__BARBADOS',\n",
              " 'Destination__BELARUS',\n",
              " 'Destination__BELGIUM',\n",
              " 'Destination__BENIN',\n",
              " 'Destination__BERMUDA',\n",
              " 'Destination__BHUTAN',\n",
              " 'Destination__BOLIVIA',\n",
              " 'Destination__BOSNIA AND HERZEGOVINA',\n",
              " 'Destination__BOTSWANA',\n",
              " 'Destination__BRAZIL',\n",
              " 'Destination__BRUNEI DARUSSALAM',\n",
              " 'Destination__BULGARIA',\n",
              " 'Destination__CAMBODIA',\n",
              " 'Destination__CANADA',\n",
              " 'Destination__CAYMAN ISLANDS',\n",
              " 'Destination__CHILE',\n",
              " 'Destination__CHINA',\n",
              " 'Destination__COLOMBIA',\n",
              " 'Destination__COSTA RICA',\n",
              " 'Destination__CROATIA',\n",
              " 'Destination__CYPRUS',\n",
              " 'Destination__CZECH REPUBLIC',\n",
              " 'Destination__DENMARK',\n",
              " 'Destination__DOMINICAN REPUBLIC',\n",
              " 'Destination__ECUADOR',\n",
              " 'Destination__EGYPT',\n",
              " 'Destination__ESTONIA',\n",
              " 'Destination__ETHIOPIA',\n",
              " 'Destination__FAROE ISLANDS',\n",
              " 'Destination__FIJI',\n",
              " 'Destination__FINLAND',\n",
              " 'Destination__FRANCE',\n",
              " 'Destination__FRENCH POLYNESIA',\n",
              " 'Destination__GEORGIA',\n",
              " 'Destination__GERMANY',\n",
              " 'Destination__GHANA',\n",
              " 'Destination__GREECE',\n",
              " 'Destination__GUADELOUPE',\n",
              " 'Destination__GUAM',\n",
              " 'Destination__GUATEMALA',\n",
              " 'Destination__GUINEA',\n",
              " 'Destination__GUINEA-BISSAU',\n",
              " 'Destination__GUYANA',\n",
              " 'Destination__HONG KONG',\n",
              " 'Destination__HUNGARY',\n",
              " 'Destination__ICELAND',\n",
              " 'Destination__INDIA',\n",
              " 'Destination__INDONESIA',\n",
              " 'Destination__IRAN, ISLAMIC REPUBLIC OF',\n",
              " 'Destination__IRELAND',\n",
              " 'Destination__ISRAEL',\n",
              " 'Destination__ITALY',\n",
              " 'Destination__JAMAICA',\n",
              " 'Destination__JAPAN',\n",
              " 'Destination__JORDAN',\n",
              " 'Destination__KAZAKHSTAN',\n",
              " 'Destination__KENYA',\n",
              " \"Destination__KOREA, DEMOCRATIC PEOPLE'S REPUBLIC OF\",\n",
              " 'Destination__KOREA, REPUBLIC OF',\n",
              " 'Destination__KUWAIT',\n",
              " 'Destination__KYRGYZSTAN',\n",
              " \"Destination__LAO PEOPLE'S DEMOCRATIC REPUBLIC\",\n",
              " 'Destination__LATVIA',\n",
              " 'Destination__LEBANON',\n",
              " 'Destination__LIBYAN ARAB JAMAHIRIYA',\n",
              " 'Destination__LITHUANIA',\n",
              " 'Destination__LUXEMBOURG',\n",
              " 'Destination__MACAO',\n",
              " 'Destination__MACEDONIA, THE FORMER YUGOSLAV REPUBLIC OF',\n",
              " 'Destination__MALAYSIA',\n",
              " 'Destination__MALDIVES',\n",
              " 'Destination__MALI',\n",
              " 'Destination__MALTA',\n",
              " 'Destination__MAURITIUS',\n",
              " 'Destination__MEXICO',\n",
              " 'Destination__MONGOLIA',\n",
              " 'Destination__MOROCCO',\n",
              " 'Destination__MYANMAR',\n",
              " 'Destination__NAMIBIA',\n",
              " 'Destination__NEPAL',\n",
              " 'Destination__NETHERLANDS',\n",
              " 'Destination__NEW ZEALAND',\n",
              " 'Destination__NIGERIA',\n",
              " 'Destination__NORTHERN MARIANA ISLANDS',\n",
              " 'Destination__NORWAY',\n",
              " 'Destination__OMAN',\n",
              " 'Destination__PAKISTAN',\n",
              " 'Destination__PANAMA',\n",
              " 'Destination__PAPUA NEW GUINEA',\n",
              " 'Destination__PERU',\n",
              " 'Destination__PHILIPPINES',\n",
              " 'Destination__POLAND',\n",
              " 'Destination__PORTUGAL',\n",
              " 'Destination__PUERTO RICO',\n",
              " 'Destination__QATAR',\n",
              " 'Destination__REPUBLIC OF MONTENEGRO',\n",
              " 'Destination__REUNION',\n",
              " 'Destination__ROMANIA',\n",
              " 'Destination__RUSSIAN FEDERATION',\n",
              " 'Destination__SAMOA',\n",
              " 'Destination__SAUDI ARABIA',\n",
              " 'Destination__SERBIA',\n",
              " 'Destination__SEYCHELLES',\n",
              " 'Destination__SINGAPORE',\n",
              " 'Destination__SLOVENIA',\n",
              " 'Destination__SOLOMON ISLANDS',\n",
              " 'Destination__SOUTH AFRICA',\n",
              " 'Destination__SPAIN',\n",
              " 'Destination__SRI LANKA',\n",
              " 'Destination__SWEDEN',\n",
              " 'Destination__SWITZERLAND',\n",
              " 'Destination__TAIWAN, PROVINCE OF CHINA',\n",
              " 'Destination__TANZANIA, UNITED REPUBLIC OF',\n",
              " 'Destination__THAILAND',\n",
              " 'Destination__TIBET',\n",
              " 'Destination__TRINIDAD AND TOBAGO',\n",
              " 'Destination__TUNISIA',\n",
              " 'Destination__TURKEY',\n",
              " 'Destination__TURKMENISTAN',\n",
              " 'Destination__UGANDA',\n",
              " 'Destination__UKRAINE',\n",
              " 'Destination__UNITED ARAB EMIRATES',\n",
              " 'Destination__UNITED KINGDOM',\n",
              " 'Destination__UNITED STATES',\n",
              " 'Destination__URUGUAY',\n",
              " 'Destination__UZBEKISTAN',\n",
              " 'Destination__VANUATU',\n",
              " 'Destination__VENEZUELA',\n",
              " 'Destination__VIET NAM',\n",
              " 'Destination__VIRGIN ISLANDS, U.S.',\n",
              " 'Destination__ZAMBIA',\n",
              " 'Destination__ZIMBABWE']"
            ]
          },
          "metadata": {
            "tags": []
          },
          "execution_count": 117
        }
      ]
    },
    {
      "cell_type": "markdown",
      "metadata": {
        "id": "KTcZ5UHVjO_t"
      },
      "source": [
        "## Numerical data # pas besoin de scaler avec random forests\r\n",
        "\r\n"
      ]
    },
    {
      "cell_type": "code",
      "metadata": {
        "id": "0AOk7saGnxQA"
      },
      "source": [
        "# get numeric data\r\n",
        "num_d = X.select_dtypes(exclude=['object'])"
      ],
      "execution_count": 118,
      "outputs": []
    },
    {
      "cell_type": "code",
      "metadata": {
        "colab": {
          "base_uri": "https://localhost:8080/"
        },
        "id": "XUiv0-T5pRKj",
        "outputId": "92e2edd3-14df-4b4a-f3ad-82301b6e71d4"
      },
      "source": [
        "print(num_d)"
      ],
      "execution_count": 119,
      "outputs": [
        {
          "output_type": "stream",
          "text": [
            "       Duration  Net Sales  Age\n",
            "0            61       19.8   29\n",
            "1            93       63.0   36\n",
            "2            22       22.0   25\n",
            "3            14       54.5   24\n",
            "4            90       10.0   23\n",
            "...         ...        ...  ...\n",
            "48255        39       44.0   36\n",
            "48256        20       60.0   30\n",
            "48257        19       29.7   43\n",
            "48258         7       20.0   61\n",
            "48259        35       20.0   29\n",
            "\n",
            "[48260 rows x 3 columns]\n"
          ],
          "name": "stdout"
        }
      ]
    },
    {
      "cell_type": "code",
      "metadata": {
        "id": "9xifUkXgjV_i",
        "colab": {
          "base_uri": "https://localhost:8080/",
          "height": 52
        },
        "outputId": "c61a588e-be81-406e-ae24-c7d28ee44143"
      },
      "source": [
        "'''\r\n",
        "sc = StandardScaler()\r\n",
        "# X_enc[num_d.columns] = sc.fit_transform(num_d) # ['Duration', 'Net Sales', 'Commision (in value)']\r\n",
        "X_scaled = sc.fit_transform(X_enc)\r\n",
        "'''"
      ],
      "execution_count": 120,
      "outputs": [
        {
          "output_type": "execute_result",
          "data": {
            "application/vnd.google.colaboratory.intrinsic+json": {
              "type": "string"
            },
            "text/plain": [
              "\"\\nsc = StandardScaler()\\n# X_enc[num_d.columns] = sc.fit_transform(num_d) # ['Duration', 'Net Sales', 'Commision (in value)']\\nX_scaled = sc.fit_transform(X_enc)\\n\""
            ]
          },
          "metadata": {
            "tags": []
          },
          "execution_count": 120
        }
      ]
    },
    {
      "cell_type": "markdown",
      "metadata": {
        "id": "kJkD_FaqjSEw"
      },
      "source": [
        "# Split the data"
      ]
    },
    {
      "cell_type": "code",
      "metadata": {
        "id": "uJIkrzHx_ApL"
      },
      "source": [
        "# Split data\r\n",
        "X_train, X_test, y_train, y_test = train_test_split(X_enc, y, test_size = 0.3, random_state = 42)"
      ],
      "execution_count": 121,
      "outputs": []
    },
    {
      "cell_type": "code",
      "metadata": {
        "colab": {
          "base_uri": "https://localhost:8080/"
        },
        "id": "GdT8Uayv297n",
        "outputId": "191b9e42-2f9f-45c4-82d0-d989bddff4ff"
      },
      "source": [
        "X_train.shape"
      ],
      "execution_count": 122,
      "outputs": [
        {
          "output_type": "execute_result",
          "data": {
            "text/plain": [
              "(33782, 185)"
            ]
          },
          "metadata": {
            "tags": []
          },
          "execution_count": 122
        }
      ]
    },
    {
      "cell_type": "code",
      "metadata": {
        "colab": {
          "base_uri": "https://localhost:8080/"
        },
        "id": "ubmkqz0Y2SS0",
        "outputId": "11a34ee1-8dfa-4b41-b65b-ac8c4f6244ee"
      },
      "source": [
        "y_train.shape"
      ],
      "execution_count": 123,
      "outputs": [
        {
          "output_type": "execute_result",
          "data": {
            "text/plain": [
              "(33782,)"
            ]
          },
          "metadata": {
            "tags": []
          },
          "execution_count": 123
        }
      ]
    },
    {
      "cell_type": "markdown",
      "metadata": {
        "id": "pG174xPQ1wS_"
      },
      "source": [
        "# Tackle Imbalanced class problem"
      ]
    },
    {
      "cell_type": "markdown",
      "metadata": {
        "id": "Hfcu-GWq1_9n"
      },
      "source": [
        "## SMOT method"
      ]
    },
    {
      "cell_type": "code",
      "metadata": {
        "id": "3QNICnmHAAYZ",
        "colab": {
          "base_uri": "https://localhost:8080/"
        },
        "outputId": "8b5233d2-d6f7-482d-fb62-6fb52f9094fb"
      },
      "source": [
        "from imblearn.over_sampling import SMOTE"
      ],
      "execution_count": 124,
      "outputs": [
        {
          "output_type": "stream",
          "text": [
            "/usr/local/lib/python3.6/dist-packages/sklearn/externals/six.py:31: FutureWarning: The module is deprecated in version 0.21 and will be removed in version 0.23 since we've dropped support for Python 2.7. Please rely on the official version of six (https://pypi.org/project/six/).\n",
            "  \"(https://pypi.org/project/six/).\", FutureWarning)\n",
            "/usr/local/lib/python3.6/dist-packages/sklearn/utils/deprecation.py:144: FutureWarning: The sklearn.neighbors.base module is  deprecated in version 0.22 and will be removed in version 0.24. The corresponding classes / functions should instead be imported from sklearn.neighbors. Anything that cannot be imported from sklearn.neighbors is now part of the private API.\n",
            "  warnings.warn(message, FutureWarning)\n"
          ],
          "name": "stderr"
        }
      ]
    },
    {
      "cell_type": "code",
      "metadata": {
        "colab": {
          "base_uri": "https://localhost:8080/"
        },
        "id": "2kHQrQ0qADzN",
        "outputId": "38d3204a-24ca-4b50-efc3-b1d6d2d10949"
      },
      "source": [
        "method =  SMOTE(kind='regular')\r\n",
        "X_resampled, y_resampled = method.fit_sample(X_train, y_train)"
      ],
      "execution_count": 125,
      "outputs": [
        {
          "output_type": "stream",
          "text": [
            "/usr/local/lib/python3.6/dist-packages/sklearn/utils/deprecation.py:87: FutureWarning: Function safe_indexing is deprecated; safe_indexing is deprecated in version 0.22 and will be removed in version 0.24.\n",
            "  warnings.warn(msg, category=FutureWarning)\n"
          ],
          "name": "stderr"
        }
      ]
    },
    {
      "cell_type": "code",
      "metadata": {
        "colab": {
          "base_uri": "https://localhost:8080/",
          "height": 265
        },
        "id": "MbNfGRnSAPDl",
        "outputId": "9260b5c8-4306-4895-dacf-027b8d84db0e"
      },
      "source": [
        "plot_data(X_resampled, y_resampled)"
      ],
      "execution_count": 126,
      "outputs": [
        {
          "output_type": "display_data",
          "data": {
            "image/png": "[encoded data removed]",
            "text/plain": [
              "<Figure size 432x288 with 1 Axes>"
            ]
          },
          "metadata": {
            "tags": [],
            "needs_background": "light"
          }
        }
      ]
    },
    {
      "cell_type": "markdown",
      "metadata": {
        "id": "aaYpXLcJDCN0"
      },
      "source": [
        "# Random Forest"
      ]
    },
    {
      "cell_type": "code",
      "metadata": {
        "id": "S4fEpVUdDCA-"
      },
      "source": [
        "rf = RandomForestClassifier()"
      ],
      "execution_count": 127,
      "outputs": []
    },
    {
      "cell_type": "markdown",
      "metadata": {
        "id": "CUNZ9XPCQD0f"
      },
      "source": [
        "## First a global randomized search CV"
      ]
    },
    {
      "cell_type": "code",
      "metadata": {
        "id": "IxxPDhXSOfOb"
      },
      "source": [
        "from sklearn.model_selection import RandomizedSearchCV\r\n",
        "import pprint"
      ],
      "execution_count": 128,
      "outputs": []
    },
    {
      "cell_type": "code",
      "metadata": {
        "colab": {
          "base_uri": "https://localhost:8080/"
        },
        "id": "cKS1xaDFEa6b",
        "outputId": "9258823f-72b6-4704-ce41-2f3cca9cc0e3"
      },
      "source": [
        "# Number of trees in random forest\r\n",
        "n_estimators = [int(x) for x in np.linspace(start = 200, stop = 2000, num = 10)]\r\n",
        "# Number of features to consider at every split\r\n",
        "max_features = ['auto', 'sqrt']\r\n",
        "# Maximum number of levels in tree\r\n",
        "max_depth = [int(x) for x in np.linspace(10, 110, num = 11)]\r\n",
        "max_depth.append(None)\r\n",
        "# Minimum number of samples required to split a node\r\n",
        "min_samples_split = [2, 5, 10]\r\n",
        "# Minimum number of samples required at each leaf node\r\n",
        "min_samples_leaf = [1, 2, 4]\r\n",
        "# Method of selecting samples for training each tree\r\n",
        "bootstrap = [True, False]\r\n",
        "# Create the random grid\r\n",
        "random_grid = {'n_estimators': n_estimators,\r\n",
        "               'max_features': max_features,\r\n",
        "               'max_depth': max_depth,\r\n",
        "               'min_samples_split': min_samples_split,\r\n",
        "               'min_samples_leaf': min_samples_leaf,\r\n",
        "               'bootstrap': bootstrap}\r\n",
        "print(random_grid)"
      ],
      "execution_count": 129,
      "outputs": [
        {
          "output_type": "stream",
          "text": [
            "{'n_estimators': [200, 400, 600, 800, 1000, 1200, 1400, 1600, 1800, 2000], 'max_features': ['auto', 'sqrt'], 'max_depth': [10, 20, 30, 40, 50, 60, 70, 80, 90, 100, 110, None], 'min_samples_split': [2, 5, 10], 'min_samples_leaf': [1, 2, 4], 'bootstrap': [True, False]}\n"
          ],
          "name": "stdout"
        }
      ]
    },
    {
      "cell_type": "code",
      "metadata": {
        "id": "tY_YF7YsOrm1"
      },
      "source": [
        "rf_random = RandomizedSearchCV(estimator = rf, \r\n",
        "                               param_distributions = random_grid, \r\n",
        "                               n_iter = 10, \r\n",
        "                               cv = 2, \r\n",
        "                               verbose=2, \r\n",
        "                               random_state=42,\r\n",
        "                               n_jobs = -1)"
      ],
      "execution_count": 132,
      "outputs": []
    },
    {
      "cell_type": "code",
      "metadata": {
        "colab": {
          "base_uri": "https://localhost:8080/"
        },
        "id": "ebRkl-CbPKye",
        "outputId": "ed60c679-426b-4cfd-95df-b0145f33593f"
      },
      "source": [
        "# Fit the random search model\r\n",
        "rf_random.fit(X_resampled, y_resampled)"
      ],
      "execution_count": 133,
      "outputs": [
        {
          "output_type": "stream",
          "text": [
            "Fitting 2 folds for each of 10 candidates, totalling 20 fits\n"
          ],
          "name": "stdout"
        },
        {
          "output_type": "stream",
          "text": [
            "[Parallel(n_jobs=-1)]: Using backend LokyBackend with 2 concurrent workers.\n",
            "/usr/local/lib/python3.6/dist-packages/joblib/externals/loky/process_executor.py:691: UserWarning: A worker stopped while some jobs were given to the executor. This can be caused by a too short worker timeout or by a memory leak.\n",
            "  \"timeout or by a memory leak.\", UserWarning\n",
            "[Parallel(n_jobs=-1)]: Done  20 out of  20 | elapsed: 24.5min finished\n"
          ],
          "name": "stderr"
        },
        {
          "output_type": "execute_result",
          "data": {
            "text/plain": [
              "RandomizedSearchCV(cv=2, error_score=nan,\n",
              "                   estimator=RandomForestClassifier(bootstrap=True,\n",
              "                                                    ccp_alpha=0.0,\n",
              "                                                    class_weight=None,\n",
              "                                                    criterion='gini',\n",
              "                                                    max_depth=None,\n",
              "                                                    max_features='auto',\n",
              "                                                    max_leaf_nodes=None,\n",
              "                                                    max_samples=None,\n",
              "                                                    min_impurity_decrease=0.0,\n",
              "                                                    min_impurity_split=None,\n",
              "                                                    min_samples_leaf=1,\n",
              "                                                    min_samples_split=2,\n",
              "                                                    min_weight_fraction_leaf=0.0,\n",
              "                                                    n_estimators=100,\n",
              "                                                    n_jobs...\n",
              "                   param_distributions={'bootstrap': [True, False],\n",
              "                                        'max_depth': [10, 20, 30, 40, 50, 60,\n",
              "                                                      70, 80, 90, 100, 110,\n",
              "                                                      None],\n",
              "                                        'max_features': ['auto', 'sqrt'],\n",
              "                                        'min_samples_leaf': [1, 2, 4],\n",
              "                                        'min_samples_split': [2, 5, 10],\n",
              "                                        'n_estimators': [200, 400, 600, 800,\n",
              "                                                         1000, 1200, 1400, 1600,\n",
              "                                                         1800, 2000]},\n",
              "                   pre_dispatch='2*n_jobs', random_state=42, refit=True,\n",
              "                   return_train_score=False, scoring=None, verbose=2)"
            ]
          },
          "metadata": {
            "tags": []
          },
          "execution_count": 133
        }
      ]
    },
    {
      "cell_type": "code",
      "metadata": {
        "colab": {
          "base_uri": "https://localhost:8080/"
        },
        "id": "tt6d10IQ0kZe",
        "outputId": "f5de65b3-ae0e-4b1e-8a19-03a08079b2ce"
      },
      "source": [
        "rf_random.best_params_"
      ],
      "execution_count": 134,
      "outputs": [
        {
          "output_type": "execute_result",
          "data": {
            "text/plain": [
              "{'bootstrap': False,\n",
              " 'max_depth': 80,\n",
              " 'max_features': 'auto',\n",
              " 'min_samples_leaf': 1,\n",
              " 'min_samples_split': 10,\n",
              " 'n_estimators': 1000}"
            ]
          },
          "metadata": {
            "tags": []
          },
          "execution_count": 134
        }
      ]
    },
    {
      "cell_type": "code",
      "metadata": {
        "colab": {
          "base_uri": "https://localhost:8080/"
        },
        "id": "k-aljPD10snY",
        "outputId": "fa26d970-4f4b-477f-b72b-f66f8417797d"
      },
      "source": [
        "rf_random.best_estimator_"
      ],
      "execution_count": 135,
      "outputs": [
        {
          "output_type": "execute_result",
          "data": {
            "text/plain": [
              "RandomForestClassifier(bootstrap=False, ccp_alpha=0.0, class_weight=None,\n",
              "                       criterion='gini', max_depth=80, max_features='auto',\n",
              "                       max_leaf_nodes=None, max_samples=None,\n",
              "                       min_impurity_decrease=0.0, min_impurity_split=None,\n",
              "                       min_samples_leaf=1, min_samples_split=10,\n",
              "                       min_weight_fraction_leaf=0.0, n_estimators=1000,\n",
              "                       n_jobs=None, oob_score=False, random_state=None,\n",
              "                       verbose=0, warm_start=False)"
            ]
          },
          "metadata": {
            "tags": []
          },
          "execution_count": 135
        }
      ]
    },
    {
      "cell_type": "markdown",
      "metadata": {
        "id": "YA5ikvGdP5Tb"
      },
      "source": [
        "## Then a more precise GridSearchCV "
      ]
    },
    {
      "cell_type": "code",
      "metadata": {
        "id": "km2lNfLnPwvZ"
      },
      "source": [
        "from sklearn.model_selection import GridSearchCV"
      ],
      "execution_count": 137,
      "outputs": []
    },
    {
      "cell_type": "code",
      "metadata": {
        "id": "I-druI86PvMZ"
      },
      "source": [
        "# Create the parameter grid based on the results of random search \r\n",
        "param_grid = {\r\n",
        "    'bootstrap': [False],\r\n",
        "    'max_depth': [70, 80],\r\n",
        "    'max_features': ['auto'],\r\n",
        "    'min_samples_leaf': [2],\r\n",
        "    'min_samples_split': [8, 10, 12],\r\n",
        "    'n_estimators': [1000]\r\n",
        "}\r\n",
        "\r\n",
        "# Instantiate the grid search model\r\n",
        "grid_search = GridSearchCV(estimator = rf, param_grid = param_grid, \r\n",
        "                          cv = 3, n_jobs = -1, verbose = 2)"
      ],
      "execution_count": 143,
      "outputs": []
    },
    {
      "cell_type": "code",
      "metadata": {
        "id": "XSZrXvQWP4N0",
        "colab": {
          "base_uri": "https://localhost:8080/"
        },
        "outputId": "3cc21ac0-db8a-4b85-d280-5ed64b759cb1"
      },
      "source": [
        "grid_search.fit(X_resampled, y_resampled)"
      ],
      "execution_count": 144,
      "outputs": [
        {
          "output_type": "stream",
          "text": [
            "Fitting 3 folds for each of 6 candidates, totalling 18 fits\n"
          ],
          "name": "stdout"
        },
        {
          "output_type": "stream",
          "text": [
            "[Parallel(n_jobs=-1)]: Using backend LokyBackend with 2 concurrent workers.\n",
            "[Parallel(n_jobs=-1)]: Done  18 out of  18 | elapsed: 33.0min finished\n"
          ],
          "name": "stderr"
        },
        {
          "output_type": "execute_result",
          "data": {
            "text/plain": [
              "GridSearchCV(cv=3, error_score=nan,\n",
              "             estimator=RandomForestClassifier(bootstrap=True, ccp_alpha=0.0,\n",
              "                                              class_weight=None,\n",
              "                                              criterion='gini', max_depth=None,\n",
              "                                              max_features='auto',\n",
              "                                              max_leaf_nodes=None,\n",
              "                                              max_samples=None,\n",
              "                                              min_impurity_decrease=0.0,\n",
              "                                              min_impurity_split=None,\n",
              "                                              min_samples_leaf=1,\n",
              "                                              min_samples_split=2,\n",
              "                                              min_weight_fraction_leaf=0.0,\n",
              "                                              n_estimators=100, n_jobs=None,\n",
              "                                              oob_score=False,\n",
              "                                              random_state=None, verbose=0,\n",
              "                                              warm_start=False),\n",
              "             iid='deprecated', n_jobs=-1,\n",
              "             param_grid={'bootstrap': [False], 'max_depth': [70, 80],\n",
              "                         'max_features': ['auto'], 'min_samples_leaf': [2],\n",
              "                         'min_samples_split': [8, 10, 12],\n",
              "                         'n_estimators': [1000]},\n",
              "             pre_dispatch='2*n_jobs', refit=True, return_train_score=False,\n",
              "             scoring=None, verbose=2)"
            ]
          },
          "metadata": {
            "tags": []
          },
          "execution_count": 144
        }
      ]
    },
    {
      "cell_type": "code",
      "metadata": {
        "colab": {
          "base_uri": "https://localhost:8080/"
        },
        "id": "VIUfLQLkD6p0",
        "outputId": "c010f463-8bbc-43b9-c04d-10edba17fc38"
      },
      "source": [
        "grid_search.best_params_"
      ],
      "execution_count": 151,
      "outputs": [
        {
          "output_type": "execute_result",
          "data": {
            "text/plain": [
              "{'bootstrap': False,\n",
              " 'max_depth': 70,\n",
              " 'max_features': 'auto',\n",
              " 'min_samples_leaf': 2,\n",
              " 'min_samples_split': 8,\n",
              " 'n_estimators': 1000}"
            ]
          },
          "metadata": {
            "tags": []
          },
          "execution_count": 151
        }
      ]
    },
    {
      "cell_type": "code",
      "metadata": {
        "id": "VifNlq3WD8ux"
      },
      "source": [
        "best_model = grid_search.best_estimator_"
      ],
      "execution_count": 147,
      "outputs": []
    },
    {
      "cell_type": "code",
      "metadata": {
        "id": "mxyIS8GAD4Xw"
      },
      "source": [
        "y_pred = best_model.predict(X_test)"
      ],
      "execution_count": 148,
      "outputs": []
    },
    {
      "cell_type": "code",
      "metadata": {
        "colab": {
          "base_uri": "https://localhost:8080/"
        },
        "id": "0I6hkVGAIT8Y",
        "outputId": "e2335c41-e14e-4622-88d0-a34daeca9fe2"
      },
      "source": [
        "f1_score(y_test,y_pred)"
      ],
      "execution_count": 149,
      "outputs": [
        {
          "output_type": "execute_result",
          "data": {
            "text/plain": [
              "0.10584958217270195"
            ]
          },
          "metadata": {
            "tags": []
          },
          "execution_count": 149
        }
      ]
    },
    {
      "cell_type": "markdown",
      "metadata": {
        "id": "5wenp3jgBZqF"
      },
      "source": [
        "# Test Submission "
      ]
    },
    {
      "cell_type": "code",
      "metadata": {
        "id": "65sVKtMzBYxr"
      },
      "source": [
        "test_data = pd.read_csv('https://raw.githubusercontent.com/dphi-official/Datasets/master/travel_insurance/Testing_set_label.csv')"
      ],
      "execution_count": 152,
      "outputs": []
    },
    {
      "cell_type": "code",
      "metadata": {
        "colab": {
          "base_uri": "https://localhost:8080/",
          "height": 296
        },
        "id": "jbFwLZ8QBw3m",
        "outputId": "36f14222-7cc4-40dd-f4d0-ef45ba64dd14"
      },
      "source": [
        "test_data.head()"
      ],
      "execution_count": 153,
      "outputs": [
        {
          "output_type": "execute_result",
          "data": {
            "text/html": [
              "<div>\n",
              "<style scoped>\n",
              "    .dataframe tbody tr th:only-of-type {\n",
              "        vertical-align: middle;\n",
              "    }\n",
              "\n",
              "    .dataframe tbody tr th {\n",
              "        vertical-align: top;\n",
              "    }\n",
              "\n",
              "    .dataframe thead th {\n",
              "        text-align: right;\n",
              "    }\n",
              "</style>\n",
              "<table border=\"1\" class=\"dataframe\">\n",
              "  <thead>\n",
              "    <tr style=\"text-align: right;\">\n",
              "      <th></th>\n",
              "      <th>Agency</th>\n",
              "      <th>Agency Type</th>\n",
              "      <th>Distribution Channel</th>\n",
              "      <th>Product Name</th>\n",
              "      <th>Duration</th>\n",
              "      <th>Destination</th>\n",
              "      <th>Net Sales</th>\n",
              "      <th>Commision (in value)</th>\n",
              "      <th>Gender</th>\n",
              "      <th>Age</th>\n",
              "    </tr>\n",
              "  </thead>\n",
              "  <tbody>\n",
              "    <tr>\n",
              "      <th>0</th>\n",
              "      <td>EPX</td>\n",
              "      <td>Travel Agency</td>\n",
              "      <td>Online</td>\n",
              "      <td>Cancellation Plan</td>\n",
              "      <td>24</td>\n",
              "      <td>HONG KONG</td>\n",
              "      <td>27.0</td>\n",
              "      <td>0.0</td>\n",
              "      <td>NaN</td>\n",
              "      <td>36</td>\n",
              "    </tr>\n",
              "    <tr>\n",
              "      <th>1</th>\n",
              "      <td>EPX</td>\n",
              "      <td>Travel Agency</td>\n",
              "      <td>Online</td>\n",
              "      <td>Cancellation Plan</td>\n",
              "      <td>51</td>\n",
              "      <td>JAPAN</td>\n",
              "      <td>45.0</td>\n",
              "      <td>0.0</td>\n",
              "      <td>NaN</td>\n",
              "      <td>36</td>\n",
              "    </tr>\n",
              "    <tr>\n",
              "      <th>2</th>\n",
              "      <td>EPX</td>\n",
              "      <td>Travel Agency</td>\n",
              "      <td>Online</td>\n",
              "      <td>Cancellation Plan</td>\n",
              "      <td>52</td>\n",
              "      <td>JAPAN</td>\n",
              "      <td>21.0</td>\n",
              "      <td>0.0</td>\n",
              "      <td>NaN</td>\n",
              "      <td>21</td>\n",
              "    </tr>\n",
              "    <tr>\n",
              "      <th>3</th>\n",
              "      <td>EPX</td>\n",
              "      <td>Travel Agency</td>\n",
              "      <td>Online</td>\n",
              "      <td>Cancellation Plan</td>\n",
              "      <td>89</td>\n",
              "      <td>SINGAPORE</td>\n",
              "      <td>11.0</td>\n",
              "      <td>0.0</td>\n",
              "      <td>NaN</td>\n",
              "      <td>30</td>\n",
              "    </tr>\n",
              "    <tr>\n",
              "      <th>4</th>\n",
              "      <td>EPX</td>\n",
              "      <td>Travel Agency</td>\n",
              "      <td>Online</td>\n",
              "      <td>Cancellation Plan</td>\n",
              "      <td>5</td>\n",
              "      <td>MALAYSIA</td>\n",
              "      <td>10.0</td>\n",
              "      <td>0.0</td>\n",
              "      <td>NaN</td>\n",
              "      <td>33</td>\n",
              "    </tr>\n",
              "  </tbody>\n",
              "</table>\n",
              "</div>"
            ],
            "text/plain": [
              "  Agency    Agency Type Distribution Channel  ... Commision (in value)  Gender Age\n",
              "0    EPX  Travel Agency               Online  ...                  0.0     NaN  36\n",
              "1    EPX  Travel Agency               Online  ...                  0.0     NaN  36\n",
              "2    EPX  Travel Agency               Online  ...                  0.0     NaN  21\n",
              "3    EPX  Travel Agency               Online  ...                  0.0     NaN  30\n",
              "4    EPX  Travel Agency               Online  ...                  0.0     NaN  33\n",
              "\n",
              "[5 rows x 10 columns]"
            ]
          },
          "metadata": {
            "tags": []
          },
          "execution_count": 153
        }
      ]
    },
    {
      "cell_type": "code",
      "metadata": {
        "id": "Q9SvCU7hBqD0"
      },
      "source": [
        "# preprocess test_data\r\n",
        "test_data.drop(columns = ['Gender', 'Commision (in value)'  ], inplace = True)"
      ],
      "execution_count": 154,
      "outputs": []
    },
    {
      "cell_type": "code",
      "metadata": {
        "id": "LaK8jqJUEPez"
      },
      "source": [
        "#test_enc = pd.get_dummies(test_data, drop_first = True)\r\n",
        "test_enc = pd.get_dummies(test_data, prefix_sep=\"__\", \r\n",
        "                                   columns=cat_columns, drop_first = True)"
      ],
      "execution_count": 155,
      "outputs": []
    },
    {
      "cell_type": "code",
      "metadata": {
        "colab": {
          "base_uri": "https://localhost:8080/",
          "height": 311
        },
        "id": "FK7FhEAWEXsb",
        "outputId": "03664215-a211-4f17-ba8c-e04e91f37fe9"
      },
      "source": [
        "test_enc.head()"
      ],
      "execution_count": 156,
      "outputs": [
        {
          "output_type": "execute_result",
          "data": {
            "text/html": [
              "<div>\n",
              "<style scoped>\n",
              "    .dataframe tbody tr th:only-of-type {\n",
              "        vertical-align: middle;\n",
              "    }\n",
              "\n",
              "    .dataframe tbody tr th {\n",
              "        vertical-align: top;\n",
              "    }\n",
              "\n",
              "    .dataframe thead th {\n",
              "        text-align: right;\n",
              "    }\n",
              "</style>\n",
              "<table border=\"1\" class=\"dataframe\">\n",
              "  <thead>\n",
              "    <tr style=\"text-align: right;\">\n",
              "      <th></th>\n",
              "      <th>Duration</th>\n",
              "      <th>Net Sales</th>\n",
              "      <th>Age</th>\n",
              "      <th>Agency__ART</th>\n",
              "      <th>Agency__C2B</th>\n",
              "      <th>Agency__CBH</th>\n",
              "      <th>Agency__CCR</th>\n",
              "      <th>Agency__CSR</th>\n",
              "      <th>Agency__CWT</th>\n",
              "      <th>Agency__EPX</th>\n",
              "      <th>Agency__JWT</th>\n",
              "      <th>Agency__JZI</th>\n",
              "      <th>Agency__KML</th>\n",
              "      <th>Agency__LWC</th>\n",
              "      <th>Agency__RAB</th>\n",
              "      <th>Agency__SSI</th>\n",
              "      <th>Agency__TST</th>\n",
              "      <th>Agency__TTW</th>\n",
              "      <th>Agency Type__Travel Agency</th>\n",
              "      <th>Distribution Channel__Online</th>\n",
              "      <th>Product Name__2 way Comprehensive Plan</th>\n",
              "      <th>Product Name__24 Protect</th>\n",
              "      <th>Product Name__Annual Gold Plan</th>\n",
              "      <th>Product Name__Annual Silver Plan</th>\n",
              "      <th>Product Name__Annual Travel Protect Gold</th>\n",
              "      <th>Product Name__Annual Travel Protect Platinum</th>\n",
              "      <th>Product Name__Annual Travel Protect Silver</th>\n",
              "      <th>Product Name__Basic Plan</th>\n",
              "      <th>Product Name__Bronze Plan</th>\n",
              "      <th>Product Name__Cancellation Plan</th>\n",
              "      <th>Product Name__Child Comprehensive Plan</th>\n",
              "      <th>Product Name__Comprehensive Plan</th>\n",
              "      <th>Product Name__Gold Plan</th>\n",
              "      <th>Product Name__Individual Comprehensive Plan</th>\n",
              "      <th>Product Name__Premier Plan</th>\n",
              "      <th>Product Name__Rental Vehicle Excess Insurance</th>\n",
              "      <th>Product Name__Silver Plan</th>\n",
              "      <th>Product Name__Single Trip Travel Protect Gold</th>\n",
              "      <th>Product Name__Single Trip Travel Protect Platinum</th>\n",
              "      <th>Product Name__Single Trip Travel Protect Silver</th>\n",
              "      <th>...</th>\n",
              "      <th>Destination__OMAN</th>\n",
              "      <th>Destination__PAKISTAN</th>\n",
              "      <th>Destination__PANAMA</th>\n",
              "      <th>Destination__PAPUA NEW GUINEA</th>\n",
              "      <th>Destination__PERU</th>\n",
              "      <th>Destination__PHILIPPINES</th>\n",
              "      <th>Destination__POLAND</th>\n",
              "      <th>Destination__PORTUGAL</th>\n",
              "      <th>Destination__QATAR</th>\n",
              "      <th>Destination__ROMANIA</th>\n",
              "      <th>Destination__RUSSIAN FEDERATION</th>\n",
              "      <th>Destination__RWANDA</th>\n",
              "      <th>Destination__SAUDI ARABIA</th>\n",
              "      <th>Destination__SENEGAL</th>\n",
              "      <th>Destination__SIERRA LEONE</th>\n",
              "      <th>Destination__SINGAPORE</th>\n",
              "      <th>Destination__SLOVENIA</th>\n",
              "      <th>Destination__SOUTH AFRICA</th>\n",
              "      <th>Destination__SPAIN</th>\n",
              "      <th>Destination__SRI LANKA</th>\n",
              "      <th>Destination__SWEDEN</th>\n",
              "      <th>Destination__SWITZERLAND</th>\n",
              "      <th>Destination__TAIWAN, PROVINCE OF CHINA</th>\n",
              "      <th>Destination__TAJIKISTAN</th>\n",
              "      <th>Destination__TANZANIA, UNITED REPUBLIC OF</th>\n",
              "      <th>Destination__THAILAND</th>\n",
              "      <th>Destination__TRINIDAD AND TOBAGO</th>\n",
              "      <th>Destination__TUNISIA</th>\n",
              "      <th>Destination__TURKEY</th>\n",
              "      <th>Destination__TURKS AND CAICOS ISLANDS</th>\n",
              "      <th>Destination__UGANDA</th>\n",
              "      <th>Destination__UKRAINE</th>\n",
              "      <th>Destination__UNITED ARAB EMIRATES</th>\n",
              "      <th>Destination__UNITED KINGDOM</th>\n",
              "      <th>Destination__UNITED STATES</th>\n",
              "      <th>Destination__UZBEKISTAN</th>\n",
              "      <th>Destination__VANUATU</th>\n",
              "      <th>Destination__VIET NAM</th>\n",
              "      <th>Destination__ZAMBIA</th>\n",
              "      <th>Destination__ZIMBABWE</th>\n",
              "    </tr>\n",
              "  </thead>\n",
              "  <tbody>\n",
              "    <tr>\n",
              "      <th>0</th>\n",
              "      <td>24</td>\n",
              "      <td>27.0</td>\n",
              "      <td>36</td>\n",
              "      <td>0</td>\n",
              "      <td>0</td>\n",
              "      <td>0</td>\n",
              "      <td>0</td>\n",
              "      <td>0</td>\n",
              "      <td>0</td>\n",
              "      <td>1</td>\n",
              "      <td>0</td>\n",
              "      <td>0</td>\n",
              "      <td>0</td>\n",
              "      <td>0</td>\n",
              "      <td>0</td>\n",
              "      <td>0</td>\n",
              "      <td>0</td>\n",
              "      <td>0</td>\n",
              "      <td>1</td>\n",
              "      <td>1</td>\n",
              "      <td>0</td>\n",
              "      <td>0</td>\n",
              "      <td>0</td>\n",
              "      <td>0</td>\n",
              "      <td>0</td>\n",
              "      <td>0</td>\n",
              "      <td>0</td>\n",
              "      <td>0</td>\n",
              "      <td>0</td>\n",
              "      <td>1</td>\n",
              "      <td>0</td>\n",
              "      <td>0</td>\n",
              "      <td>0</td>\n",
              "      <td>0</td>\n",
              "      <td>0</td>\n",
              "      <td>0</td>\n",
              "      <td>0</td>\n",
              "      <td>0</td>\n",
              "      <td>0</td>\n",
              "      <td>0</td>\n",
              "      <td>...</td>\n",
              "      <td>0</td>\n",
              "      <td>0</td>\n",
              "      <td>0</td>\n",
              "      <td>0</td>\n",
              "      <td>0</td>\n",
              "      <td>0</td>\n",
              "      <td>0</td>\n",
              "      <td>0</td>\n",
              "      <td>0</td>\n",
              "      <td>0</td>\n",
              "      <td>0</td>\n",
              "      <td>0</td>\n",
              "      <td>0</td>\n",
              "      <td>0</td>\n",
              "      <td>0</td>\n",
              "      <td>0</td>\n",
              "      <td>0</td>\n",
              "      <td>0</td>\n",
              "      <td>0</td>\n",
              "      <td>0</td>\n",
              "      <td>0</td>\n",
              "      <td>0</td>\n",
              "      <td>0</td>\n",
              "      <td>0</td>\n",
              "      <td>0</td>\n",
              "      <td>0</td>\n",
              "      <td>0</td>\n",
              "      <td>0</td>\n",
              "      <td>0</td>\n",
              "      <td>0</td>\n",
              "      <td>0</td>\n",
              "      <td>0</td>\n",
              "      <td>0</td>\n",
              "      <td>0</td>\n",
              "      <td>0</td>\n",
              "      <td>0</td>\n",
              "      <td>0</td>\n",
              "      <td>0</td>\n",
              "      <td>0</td>\n",
              "      <td>0</td>\n",
              "    </tr>\n",
              "    <tr>\n",
              "      <th>1</th>\n",
              "      <td>51</td>\n",
              "      <td>45.0</td>\n",
              "      <td>36</td>\n",
              "      <td>0</td>\n",
              "      <td>0</td>\n",
              "      <td>0</td>\n",
              "      <td>0</td>\n",
              "      <td>0</td>\n",
              "      <td>0</td>\n",
              "      <td>1</td>\n",
              "      <td>0</td>\n",
              "      <td>0</td>\n",
              "      <td>0</td>\n",
              "      <td>0</td>\n",
              "      <td>0</td>\n",
              "      <td>0</td>\n",
              "      <td>0</td>\n",
              "      <td>0</td>\n",
              "      <td>1</td>\n",
              "      <td>1</td>\n",
              "      <td>0</td>\n",
              "      <td>0</td>\n",
              "      <td>0</td>\n",
              "      <td>0</td>\n",
              "      <td>0</td>\n",
              "      <td>0</td>\n",
              "      <td>0</td>\n",
              "      <td>0</td>\n",
              "      <td>0</td>\n",
              "      <td>1</td>\n",
              "      <td>0</td>\n",
              "      <td>0</td>\n",
              "      <td>0</td>\n",
              "      <td>0</td>\n",
              "      <td>0</td>\n",
              "      <td>0</td>\n",
              "      <td>0</td>\n",
              "      <td>0</td>\n",
              "      <td>0</td>\n",
              "      <td>0</td>\n",
              "      <td>...</td>\n",
              "      <td>0</td>\n",
              "      <td>0</td>\n",
              "      <td>0</td>\n",
              "      <td>0</td>\n",
              "      <td>0</td>\n",
              "      <td>0</td>\n",
              "      <td>0</td>\n",
              "      <td>0</td>\n",
              "      <td>0</td>\n",
              "      <td>0</td>\n",
              "      <td>0</td>\n",
              "      <td>0</td>\n",
              "      <td>0</td>\n",
              "      <td>0</td>\n",
              "      <td>0</td>\n",
              "      <td>0</td>\n",
              "      <td>0</td>\n",
              "      <td>0</td>\n",
              "      <td>0</td>\n",
              "      <td>0</td>\n",
              "      <td>0</td>\n",
              "      <td>0</td>\n",
              "      <td>0</td>\n",
              "      <td>0</td>\n",
              "      <td>0</td>\n",
              "      <td>0</td>\n",
              "      <td>0</td>\n",
              "      <td>0</td>\n",
              "      <td>0</td>\n",
              "      <td>0</td>\n",
              "      <td>0</td>\n",
              "      <td>0</td>\n",
              "      <td>0</td>\n",
              "      <td>0</td>\n",
              "      <td>0</td>\n",
              "      <td>0</td>\n",
              "      <td>0</td>\n",
              "      <td>0</td>\n",
              "      <td>0</td>\n",
              "      <td>0</td>\n",
              "    </tr>\n",
              "    <tr>\n",
              "      <th>2</th>\n",
              "      <td>52</td>\n",
              "      <td>21.0</td>\n",
              "      <td>21</td>\n",
              "      <td>0</td>\n",
              "      <td>0</td>\n",
              "      <td>0</td>\n",
              "      <td>0</td>\n",
              "      <td>0</td>\n",
              "      <td>0</td>\n",
              "      <td>1</td>\n",
              "      <td>0</td>\n",
              "      <td>0</td>\n",
              "      <td>0</td>\n",
              "      <td>0</td>\n",
              "      <td>0</td>\n",
              "      <td>0</td>\n",
              "      <td>0</td>\n",
              "      <td>0</td>\n",
              "      <td>1</td>\n",
              "      <td>1</td>\n",
              "      <td>0</td>\n",
              "      <td>0</td>\n",
              "      <td>0</td>\n",
              "      <td>0</td>\n",
              "      <td>0</td>\n",
              "      <td>0</td>\n",
              "      <td>0</td>\n",
              "      <td>0</td>\n",
              "      <td>0</td>\n",
              "      <td>1</td>\n",
              "      <td>0</td>\n",
              "      <td>0</td>\n",
              "      <td>0</td>\n",
              "      <td>0</td>\n",
              "      <td>0</td>\n",
              "      <td>0</td>\n",
              "      <td>0</td>\n",
              "      <td>0</td>\n",
              "      <td>0</td>\n",
              "      <td>0</td>\n",
              "      <td>...</td>\n",
              "      <td>0</td>\n",
              "      <td>0</td>\n",
              "      <td>0</td>\n",
              "      <td>0</td>\n",
              "      <td>0</td>\n",
              "      <td>0</td>\n",
              "      <td>0</td>\n",
              "      <td>0</td>\n",
              "      <td>0</td>\n",
              "      <td>0</td>\n",
              "      <td>0</td>\n",
              "      <td>0</td>\n",
              "      <td>0</td>\n",
              "      <td>0</td>\n",
              "      <td>0</td>\n",
              "      <td>0</td>\n",
              "      <td>0</td>\n",
              "      <td>0</td>\n",
              "      <td>0</td>\n",
              "      <td>0</td>\n",
              "      <td>0</td>\n",
              "      <td>0</td>\n",
              "      <td>0</td>\n",
              "      <td>0</td>\n",
              "      <td>0</td>\n",
              "      <td>0</td>\n",
              "      <td>0</td>\n",
              "      <td>0</td>\n",
              "      <td>0</td>\n",
              "      <td>0</td>\n",
              "      <td>0</td>\n",
              "      <td>0</td>\n",
              "      <td>0</td>\n",
              "      <td>0</td>\n",
              "      <td>0</td>\n",
              "      <td>0</td>\n",
              "      <td>0</td>\n",
              "      <td>0</td>\n",
              "      <td>0</td>\n",
              "      <td>0</td>\n",
              "    </tr>\n",
              "    <tr>\n",
              "      <th>3</th>\n",
              "      <td>89</td>\n",
              "      <td>11.0</td>\n",
              "      <td>30</td>\n",
              "      <td>0</td>\n",
              "      <td>0</td>\n",
              "      <td>0</td>\n",
              "      <td>0</td>\n",
              "      <td>0</td>\n",
              "      <td>0</td>\n",
              "      <td>1</td>\n",
              "      <td>0</td>\n",
              "      <td>0</td>\n",
              "      <td>0</td>\n",
              "      <td>0</td>\n",
              "      <td>0</td>\n",
              "      <td>0</td>\n",
              "      <td>0</td>\n",
              "      <td>0</td>\n",
              "      <td>1</td>\n",
              "      <td>1</td>\n",
              "      <td>0</td>\n",
              "      <td>0</td>\n",
              "      <td>0</td>\n",
              "      <td>0</td>\n",
              "      <td>0</td>\n",
              "      <td>0</td>\n",
              "      <td>0</td>\n",
              "      <td>0</td>\n",
              "      <td>0</td>\n",
              "      <td>1</td>\n",
              "      <td>0</td>\n",
              "      <td>0</td>\n",
              "      <td>0</td>\n",
              "      <td>0</td>\n",
              "      <td>0</td>\n",
              "      <td>0</td>\n",
              "      <td>0</td>\n",
              "      <td>0</td>\n",
              "      <td>0</td>\n",
              "      <td>0</td>\n",
              "      <td>...</td>\n",
              "      <td>0</td>\n",
              "      <td>0</td>\n",
              "      <td>0</td>\n",
              "      <td>0</td>\n",
              "      <td>0</td>\n",
              "      <td>0</td>\n",
              "      <td>0</td>\n",
              "      <td>0</td>\n",
              "      <td>0</td>\n",
              "      <td>0</td>\n",
              "      <td>0</td>\n",
              "      <td>0</td>\n",
              "      <td>0</td>\n",
              "      <td>0</td>\n",
              "      <td>0</td>\n",
              "      <td>1</td>\n",
              "      <td>0</td>\n",
              "      <td>0</td>\n",
              "      <td>0</td>\n",
              "      <td>0</td>\n",
              "      <td>0</td>\n",
              "      <td>0</td>\n",
              "      <td>0</td>\n",
              "      <td>0</td>\n",
              "      <td>0</td>\n",
              "      <td>0</td>\n",
              "      <td>0</td>\n",
              "      <td>0</td>\n",
              "      <td>0</td>\n",
              "      <td>0</td>\n",
              "      <td>0</td>\n",
              "      <td>0</td>\n",
              "      <td>0</td>\n",
              "      <td>0</td>\n",
              "      <td>0</td>\n",
              "      <td>0</td>\n",
              "      <td>0</td>\n",
              "      <td>0</td>\n",
              "      <td>0</td>\n",
              "      <td>0</td>\n",
              "    </tr>\n",
              "    <tr>\n",
              "      <th>4</th>\n",
              "      <td>5</td>\n",
              "      <td>10.0</td>\n",
              "      <td>33</td>\n",
              "      <td>0</td>\n",
              "      <td>0</td>\n",
              "      <td>0</td>\n",
              "      <td>0</td>\n",
              "      <td>0</td>\n",
              "      <td>0</td>\n",
              "      <td>1</td>\n",
              "      <td>0</td>\n",
              "      <td>0</td>\n",
              "      <td>0</td>\n",
              "      <td>0</td>\n",
              "      <td>0</td>\n",
              "      <td>0</td>\n",
              "      <td>0</td>\n",
              "      <td>0</td>\n",
              "      <td>1</td>\n",
              "      <td>1</td>\n",
              "      <td>0</td>\n",
              "      <td>0</td>\n",
              "      <td>0</td>\n",
              "      <td>0</td>\n",
              "      <td>0</td>\n",
              "      <td>0</td>\n",
              "      <td>0</td>\n",
              "      <td>0</td>\n",
              "      <td>0</td>\n",
              "      <td>1</td>\n",
              "      <td>0</td>\n",
              "      <td>0</td>\n",
              "      <td>0</td>\n",
              "      <td>0</td>\n",
              "      <td>0</td>\n",
              "      <td>0</td>\n",
              "      <td>0</td>\n",
              "      <td>0</td>\n",
              "      <td>0</td>\n",
              "      <td>0</td>\n",
              "      <td>...</td>\n",
              "      <td>0</td>\n",
              "      <td>0</td>\n",
              "      <td>0</td>\n",
              "      <td>0</td>\n",
              "      <td>0</td>\n",
              "      <td>0</td>\n",
              "      <td>0</td>\n",
              "      <td>0</td>\n",
              "      <td>0</td>\n",
              "      <td>0</td>\n",
              "      <td>0</td>\n",
              "      <td>0</td>\n",
              "      <td>0</td>\n",
              "      <td>0</td>\n",
              "      <td>0</td>\n",
              "      <td>0</td>\n",
              "      <td>0</td>\n",
              "      <td>0</td>\n",
              "      <td>0</td>\n",
              "      <td>0</td>\n",
              "      <td>0</td>\n",
              "      <td>0</td>\n",
              "      <td>0</td>\n",
              "      <td>0</td>\n",
              "      <td>0</td>\n",
              "      <td>0</td>\n",
              "      <td>0</td>\n",
              "      <td>0</td>\n",
              "      <td>0</td>\n",
              "      <td>0</td>\n",
              "      <td>0</td>\n",
              "      <td>0</td>\n",
              "      <td>0</td>\n",
              "      <td>0</td>\n",
              "      <td>0</td>\n",
              "      <td>0</td>\n",
              "      <td>0</td>\n",
              "      <td>0</td>\n",
              "      <td>0</td>\n",
              "      <td>0</td>\n",
              "    </tr>\n",
              "  </tbody>\n",
              "</table>\n",
              "<p>5 rows × 160 columns</p>\n",
              "</div>"
            ],
            "text/plain": [
              "   Duration  Net Sales  ...  Destination__ZAMBIA  Destination__ZIMBABWE\n",
              "0        24       27.0  ...                    0                      0\n",
              "1        51       45.0  ...                    0                      0\n",
              "2        52       21.0  ...                    0                      0\n",
              "3        89       11.0  ...                    0                      0\n",
              "4         5       10.0  ...                    0                      0\n",
              "\n",
              "[5 rows x 160 columns]"
            ]
          },
          "metadata": {
            "tags": []
          },
          "execution_count": 156
        }
      ]
    },
    {
      "cell_type": "code",
      "metadata": {
        "colab": {
          "base_uri": "https://localhost:8080/"
        },
        "id": "2LgdLQOFNVAV",
        "outputId": "e13db82f-0c45-4d6a-b908-87d6a734785e"
      },
      "source": [
        "test_ready = add_missing_columns(test_enc, cat_dummies= cat_dummies, processed_columns= processed_columns )"
      ],
      "execution_count": 157,
      "outputs": [
        {
          "output_type": "stream",
          "text": [
            "Adding missing feature Product Name__Travel Cruise Protect Family\n",
            "Adding missing feature Destination__ANGOLA\n",
            "Adding missing feature Destination__ARGENTINA\n",
            "Adding missing feature Destination__ARMENIA\n",
            "Adding missing feature Destination__BARBADOS\n",
            "Adding missing feature Destination__BENIN\n",
            "Adding missing feature Destination__BHUTAN\n",
            "Adding missing feature Destination__BOSNIA AND HERZEGOVINA\n",
            "Adding missing feature Destination__BOTSWANA\n",
            "Adding missing feature Destination__CAYMAN ISLANDS\n",
            "Adding missing feature Destination__CHILE\n",
            "Adding missing feature Destination__DOMINICAN REPUBLIC\n",
            "Adding missing feature Destination__FRENCH POLYNESIA\n",
            "Adding missing feature Destination__GUADELOUPE\n",
            "Adding missing feature Destination__GUATEMALA\n",
            "Adding missing feature Destination__GUINEA-BISSAU\n",
            "Adding missing feature Destination__KOREA, DEMOCRATIC PEOPLE'S REPUBLIC OF\n",
            "Adding missing feature Destination__KYRGYZSTAN\n",
            "Adding missing feature Destination__LIBYAN ARAB JAMAHIRIYA\n",
            "Adding missing feature Destination__MALI\n",
            "Adding missing feature Destination__NIGERIA\n",
            "Adding missing feature Destination__PUERTO RICO\n",
            "Adding missing feature Destination__REPUBLIC OF MONTENEGRO\n",
            "Adding missing feature Destination__REUNION\n",
            "Adding missing feature Destination__SAMOA\n",
            "Adding missing feature Destination__SERBIA\n",
            "Adding missing feature Destination__SEYCHELLES\n",
            "Adding missing feature Destination__SOLOMON ISLANDS\n",
            "Adding missing feature Destination__TIBET\n",
            "Adding missing feature Destination__TURKMENISTAN\n",
            "Adding missing feature Destination__URUGUAY\n",
            "Adding missing feature Destination__VENEZUELA\n",
            "Adding missing feature Destination__VIRGIN ISLANDS, U.S.\n"
          ],
          "name": "stdout"
        }
      ]
    },
    {
      "cell_type": "code",
      "metadata": {
        "id": "mgKBeAKkEaJv"
      },
      "source": [
        "# test_scaled = sc.fit_transform(test_ready)"
      ],
      "execution_count": null,
      "outputs": []
    },
    {
      "cell_type": "code",
      "metadata": {
        "id": "9W83OfKrBt1r"
      },
      "source": [
        "# predict \r\n",
        "test_pred = best_model.predict(test_ready)"
      ],
      "execution_count": 160,
      "outputs": []
    },
    {
      "cell_type": "code",
      "metadata": {
        "id": "S_C9KaSLjHIc"
      },
      "source": [
        "#predict with cv \r\n",
        "#test_pred_cv = logreg_cv.predict(test_ready)"
      ],
      "execution_count": null,
      "outputs": []
    },
    {
      "cell_type": "code",
      "metadata": {
        "id": "FK2D4feVN-cJ"
      },
      "source": [
        "prediction = pd.DataFrame(test_pred)\r\n"
      ],
      "execution_count": 161,
      "outputs": []
    },
    {
      "cell_type": "code",
      "metadata": {
        "id": "WZ7n4wKwPKVR"
      },
      "source": [
        "prediction.rename(columns = {0:'prediction'}, inplace = True)"
      ],
      "execution_count": 162,
      "outputs": []
    },
    {
      "cell_type": "code",
      "metadata": {
        "colab": {
          "base_uri": "https://localhost:8080/",
          "height": 402
        },
        "id": "IMkj45NEPRcf",
        "outputId": "f659af5e-645d-4d46-df2b-7d2d0bd2dd2e"
      },
      "source": [
        "prediction"
      ],
      "execution_count": 163,
      "outputs": [
        {
          "output_type": "execute_result",
          "data": {
            "text/html": [
              "<div>\n",
              "<style scoped>\n",
              "    .dataframe tbody tr th:only-of-type {\n",
              "        vertical-align: middle;\n",
              "    }\n",
              "\n",
              "    .dataframe tbody tr th {\n",
              "        vertical-align: top;\n",
              "    }\n",
              "\n",
              "    .dataframe thead th {\n",
              "        text-align: right;\n",
              "    }\n",
              "</style>\n",
              "<table border=\"1\" class=\"dataframe\">\n",
              "  <thead>\n",
              "    <tr style=\"text-align: right;\">\n",
              "      <th></th>\n",
              "      <th>prediction</th>\n",
              "    </tr>\n",
              "  </thead>\n",
              "  <tbody>\n",
              "    <tr>\n",
              "      <th>0</th>\n",
              "      <td>0</td>\n",
              "    </tr>\n",
              "    <tr>\n",
              "      <th>1</th>\n",
              "      <td>0</td>\n",
              "    </tr>\n",
              "    <tr>\n",
              "      <th>2</th>\n",
              "      <td>0</td>\n",
              "    </tr>\n",
              "    <tr>\n",
              "      <th>3</th>\n",
              "      <td>0</td>\n",
              "    </tr>\n",
              "    <tr>\n",
              "      <th>4</th>\n",
              "      <td>0</td>\n",
              "    </tr>\n",
              "    <tr>\n",
              "      <th>...</th>\n",
              "      <td>...</td>\n",
              "    </tr>\n",
              "    <tr>\n",
              "      <th>15827</th>\n",
              "      <td>0</td>\n",
              "    </tr>\n",
              "    <tr>\n",
              "      <th>15828</th>\n",
              "      <td>0</td>\n",
              "    </tr>\n",
              "    <tr>\n",
              "      <th>15829</th>\n",
              "      <td>0</td>\n",
              "    </tr>\n",
              "    <tr>\n",
              "      <th>15830</th>\n",
              "      <td>0</td>\n",
              "    </tr>\n",
              "    <tr>\n",
              "      <th>15831</th>\n",
              "      <td>0</td>\n",
              "    </tr>\n",
              "  </tbody>\n",
              "</table>\n",
              "<p>15832 rows × 1 columns</p>\n",
              "</div>"
            ],
            "text/plain": [
              "       prediction\n",
              "0               0\n",
              "1               0\n",
              "2               0\n",
              "3               0\n",
              "4               0\n",
              "...           ...\n",
              "15827           0\n",
              "15828           0\n",
              "15829           0\n",
              "15830           0\n",
              "15831           0\n",
              "\n",
              "[15832 rows x 1 columns]"
            ]
          },
          "metadata": {
            "tags": []
          },
          "execution_count": 163
        }
      ]
    },
    {
      "cell_type": "code",
      "metadata": {
        "id": "8OhSk2rWPWbN"
      },
      "source": [
        "prediction.to_csv('prediction2.csv', index = False)"
      ],
      "execution_count": 164,
      "outputs": []
    },
    {
      "cell_type": "code",
      "metadata": {
        "id": "sHtFXlkTQvAc"
      },
      "source": [
        "#75\tolgab\t8.34765529094034 #linreg"
      ],
      "execution_count": null,
      "outputs": []
    },
    {
      "cell_type": "code",
      "metadata": {
        "id": "ORw35b0QJ4fe"
      },
      "source": [
        "#99\tolgab\t9.574468085106384 #randomforest"
      ],
      "execution_count": null,
      "outputs": []
    }
  ]
}
